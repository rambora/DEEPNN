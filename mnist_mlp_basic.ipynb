{
 "cells": [
  {
   "cell_type": "markdown",
   "metadata": {},
   "source": [
    "# A simple MLP on the MNIST dataset"
   ]
  },
  {
   "cell_type": "code",
   "execution_count": 1,
   "metadata": {},
   "outputs": [
    {
     "name": "stderr",
     "output_type": "stream",
     "text": [
      "Using TensorFlow backend.\n"
     ]
    }
   ],
   "source": [
    "import keras\n",
    "from keras.callbacks import TensorBoard\n",
    "from keras.datasets import mnist\n",
    "from keras.models import Sequential\n",
    "from keras.layers import Dense, Dropout,Activation\n",
    "from keras.optimizers import SGD, Adam, RMSprop\n",
    "from keras.utils import np_utils"
   ]
  },
  {
   "cell_type": "code",
   "execution_count": 3,
   "metadata": {},
   "outputs": [],
   "source": [
    "#tensorboard = TensorBoard(log_dir='/Users/ram/Desktop/DEEPNN/keras_basic/', histogram_freq=0,\n",
    "                          write_graph=True, write_images=False)\n",
    "\n",
    "# write_graph    :  graph of the neural network defined internally\n",
    "# write_images   :  create an image by combining the weight of neural network\n",
    "# histogram_freq :  plot the distribution of weights and biases in the network"
   ]
  },
  {
   "cell_type": "code",
   "execution_count": 2,
   "metadata": {
    "collapsed": true
   },
   "outputs": [],
   "source": [
    "import numpy as np\n",
    "import pandas as pd\n",
    "from __future__ import print_function\n",
    "import matplotlib.pyplot as plt\n",
    "%matplotlib inline"
   ]
  },
  {
   "cell_type": "code",
   "execution_count": 22,
   "metadata": {
    "collapsed": true
   },
   "outputs": [],
   "source": [
    "# Loading the mnist data set from keras datasets\n",
    "(x_train,y_train),(x_test,y_test) = mnist.load_data()"
   ]
  },
  {
   "cell_type": "code",
   "execution_count": 4,
   "metadata": {},
   "outputs": [
    {
     "name": "stdout",
     "output_type": "stream",
     "text": [
      "x_train shape: (60000, 28, 28)\n",
      "x_test shape: (10000, 28, 28)\n",
      "y_train shape: (60000,)\n",
      "y_test shape: (10000,)\n"
     ]
    }
   ],
   "source": [
    "print('x_train shape:', x_train.shape)\n",
    "print('x_test shape:', x_test.shape)\n",
    "print('y_train shape:', y_train.shape)\n",
    "print('y_test shape:', y_test.shape)"
   ]
  },
  {
   "cell_type": "code",
   "execution_count": 12,
   "metadata": {},
   "outputs": [],
   "source": [
    "# The images are 2D greyscale"
   ]
  },
  {
   "cell_type": "code",
   "execution_count": 5,
   "metadata": {},
   "outputs": [
    {
     "data": {
      "text/plain": [
       "<matplotlib.image.AxesImage at 0x1823616668>"
      ]
     },
     "execution_count": 5,
     "metadata": {},
     "output_type": "execute_result"
    },
    {
     "data": {
      "image/png": "[encoded data removed]",
      "text/plain": [
       "<matplotlib.figure.Figure at 0x18209088d0>"
      ]
     },
     "metadata": {},
     "output_type": "display_data"
    }
   ],
   "source": [
    "# inspecting the images\n",
    "plt.subplot(221)\n",
    "plt.imshow(x_train[0], cmap=plt.get_cmap('gray'))\n",
    "plt.subplot(222)\n",
    "plt.imshow(x_train[1], cmap=plt.get_cmap('gray'))\n",
    "plt.subplot(223)\n",
    "plt.imshow(x_train[2], cmap=plt.get_cmap('gray'))\n",
    "plt.subplot(224)\n",
    "plt.imshow(x_train[3], cmap=plt.get_cmap('gray'))"
   ]
  },
  {
   "cell_type": "code",
   "execution_count": 23,
   "metadata": {},
   "outputs": [
    {
     "data": {
      "text/plain": [
       "4"
      ]
     },
     "execution_count": 23,
     "metadata": {},
     "output_type": "execute_result"
    }
   ],
   "source": [
    "y_train[2]"
   ]
  },
  {
   "cell_type": "code",
   "execution_count": 24,
   "metadata": {},
   "outputs": [],
   "source": [
    "seed = 101\n",
    "np.random.seed(seed)"
   ]
  },
  {
   "cell_type": "code",
   "execution_count": 25,
   "metadata": {},
   "outputs": [],
   "source": [
    "# For MLP :\n",
    "# reshaping the data (28*28 = 784) and converting the images to numpy arrays\n",
    "num_pixels = x_train.shape[1]*x_train.shape[2]\n",
    "x_train = x_train.reshape(x_train.shape[0],num_pixels).astype('float32')\n",
    "x_test = x_test.reshape(x_test.shape[0],num_pixels).astype('float32')"
   ]
  },
  {
   "cell_type": "code",
   "execution_count": 27,
   "metadata": {},
   "outputs": [
    {
     "name": "stdout",
     "output_type": "stream",
     "text": [
      "train_dim: (60000, 784)\n",
      "test_dim: (10000, 784)\n"
     ]
    }
   ],
   "source": [
    "# normalizing the data        \n",
    "x_train /= 255\n",
    "x_test /= 255\n",
    "print('train_dim:',x_train.shape)\n",
    "print('test_dim:', x_test.shape)"
   ]
  },
  {
   "cell_type": "code",
   "execution_count": 33,
   "metadata": {},
   "outputs": [
    {
     "data": {
      "text/plain": [
       "(60000, 10)"
      ]
     },
     "execution_count": 33,
     "metadata": {},
     "output_type": "execute_result"
    }
   ],
   "source": [
    "# one-hot encode outputs\n",
    "classes = 10\n",
    "y_train = np_utils.to_categorical(y_train,classes)\n",
    "y_test = np_utils.to_categorical(y_test,classes)\n",
    "y_train.shape"
   ]
  },
  {
   "cell_type": "code",
   "execution_count": 34,
   "metadata": {
    "collapsed": true
   },
   "outputs": [],
   "source": [
    "# Defining the Baseline model \n",
    "def baseline_model():\n",
    "    model = Sequential()\n",
    "    model.add(Dense(512, input_dim=784, activation='relu'))\n",
    "    model.add(Dense(classes,activation='softmax'))\n",
    "    model.compile(optimizer='adam',loss='categorical_crossentropy',metrics=['accuracy'])\n",
    "    return model"
   ]
  },
  {
   "cell_type": "code",
   "execution_count": 42,
   "metadata": {},
   "outputs": [
    {
     "name": "stdout",
     "output_type": "stream",
     "text": [
      "_________________________________________________________________\n",
      "Layer (type)                 Output Shape              Param #   \n",
      "=================================================================\n",
      "dense_3 (Dense)              (None, 512)               401920    \n",
      "_________________________________________________________________\n",
      "dense_4 (Dense)              (None, 10)                5130      \n",
      "=================================================================\n",
      "Total params: 407,050\n",
      "Trainable params: 407,050\n",
      "Non-trainable params: 0\n",
      "_________________________________________________________________\n"
     ]
    }
   ],
   "source": [
    "# Summarizing the model\n",
    "model = baseline_model()\n",
    "model.summary()"
   ]
  },
  {
   "cell_type": "code",
   "execution_count": 45,
   "metadata": {},
   "outputs": [
    {
     "name": "stdout",
     "output_type": "stream",
     "text": [
      "Train on 40199 samples, validate on 19801 samples\n",
      "Epoch 1/50\n",
      " - 6s - loss: 1.6670 - acc: 0.5900 - val_loss: 0.9763 - val_acc: 0.7904\n",
      "Epoch 2/50\n",
      " - 6s - loss: 0.7424 - acc: 0.8240 - val_loss: 0.5703 - val_acc: 0.8594\n",
      "Epoch 3/50\n",
      " - 6s - loss: 0.5098 - acc: 0.8712 - val_loss: 0.4400 - val_acc: 0.8865\n",
      "Epoch 4/50\n",
      " - 6s - loss: 0.4196 - acc: 0.8881 - val_loss: 0.3828 - val_acc: 0.8955\n",
      "Epoch 5/50\n",
      " - 6s - loss: 0.3754 - acc: 0.8964 - val_loss: 0.3515 - val_acc: 0.9006\n",
      "Epoch 6/50\n",
      " - 7s - loss: 0.3479 - acc: 0.9029 - val_loss: 0.3323 - val_acc: 0.9053\n",
      "Epoch 7/50\n",
      " - 7s - loss: 0.3285 - acc: 0.9073 - val_loss: 0.3163 - val_acc: 0.9102\n",
      "Epoch 8/50\n",
      " - 6s - loss: 0.3145 - acc: 0.9113 - val_loss: 0.3076 - val_acc: 0.9104\n",
      "Epoch 9/50\n",
      " - 6s - loss: 0.3025 - acc: 0.9135 - val_loss: 0.2981 - val_acc: 0.9140\n",
      "Epoch 10/50\n",
      " - 6s - loss: 0.2930 - acc: 0.9153 - val_loss: 0.2891 - val_acc: 0.9167\n",
      "Epoch 11/50\n",
      " - 6s - loss: 0.2841 - acc: 0.9184 - val_loss: 0.2826 - val_acc: 0.9187\n",
      "Epoch 12/50\n",
      " - 6s - loss: 0.2758 - acc: 0.9205 - val_loss: 0.2784 - val_acc: 0.9191\n",
      "Epoch 13/50\n",
      " - 6s - loss: 0.2682 - acc: 0.9222 - val_loss: 0.2728 - val_acc: 0.9219\n",
      "Epoch 14/50\n",
      " - 6s - loss: 0.2615 - acc: 0.9244 - val_loss: 0.2652 - val_acc: 0.9229\n",
      "Epoch 15/50\n",
      " - 6s - loss: 0.2541 - acc: 0.9266 - val_loss: 0.2585 - val_acc: 0.9256\n",
      "Epoch 16/50\n",
      " - 6s - loss: 0.2468 - acc: 0.9273 - val_loss: 0.2543 - val_acc: 0.9264\n",
      "Epoch 17/50\n",
      " - 6s - loss: 0.2403 - acc: 0.9297 - val_loss: 0.2466 - val_acc: 0.9280\n",
      "Epoch 18/50\n",
      " - 6s - loss: 0.2335 - acc: 0.9326 - val_loss: 0.2425 - val_acc: 0.9301\n",
      "Epoch 19/50\n",
      " - 6s - loss: 0.2268 - acc: 0.9345 - val_loss: 0.2372 - val_acc: 0.9311\n",
      "Epoch 20/50\n",
      " - 6s - loss: 0.2206 - acc: 0.9364 - val_loss: 0.2382 - val_acc: 0.9309\n",
      "Epoch 21/50\n",
      " - 6s - loss: 0.2152 - acc: 0.9369 - val_loss: 0.2274 - val_acc: 0.9340\n",
      "Epoch 22/50\n",
      " - 6s - loss: 0.2085 - acc: 0.9404 - val_loss: 0.2243 - val_acc: 0.9348\n",
      "Epoch 23/50\n",
      " - 6s - loss: 0.2026 - acc: 0.9414 - val_loss: 0.2182 - val_acc: 0.9374\n",
      "Epoch 24/50\n",
      " - 6s - loss: 0.1966 - acc: 0.9433 - val_loss: 0.2142 - val_acc: 0.9373\n",
      "Epoch 25/50\n",
      " - 6s - loss: 0.1912 - acc: 0.9449 - val_loss: 0.2092 - val_acc: 0.9407\n",
      "Epoch 26/50\n",
      " - 6s - loss: 0.1859 - acc: 0.9466 - val_loss: 0.2046 - val_acc: 0.9407\n",
      "Epoch 27/50\n",
      " - 6s - loss: 0.1807 - acc: 0.9483 - val_loss: 0.2010 - val_acc: 0.9418\n",
      "Epoch 28/50\n",
      " - 6s - loss: 0.1763 - acc: 0.9494 - val_loss: 0.1982 - val_acc: 0.9434\n",
      "Epoch 29/50\n",
      " - 6s - loss: 0.1704 - acc: 0.9516 - val_loss: 0.1939 - val_acc: 0.9435\n",
      "Epoch 30/50\n",
      " - 6s - loss: 0.1659 - acc: 0.9531 - val_loss: 0.1889 - val_acc: 0.9455\n",
      "Epoch 31/50\n",
      " - 6s - loss: 0.1617 - acc: 0.9541 - val_loss: 0.1845 - val_acc: 0.9467\n",
      "Epoch 32/50\n",
      " - 6s - loss: 0.1572 - acc: 0.9554 - val_loss: 0.1813 - val_acc: 0.9475\n",
      "Epoch 33/50\n",
      " - 6s - loss: 0.1531 - acc: 0.9567 - val_loss: 0.1794 - val_acc: 0.9481\n",
      "Epoch 34/50\n",
      " - 6s - loss: 0.1493 - acc: 0.9581 - val_loss: 0.1778 - val_acc: 0.9477\n",
      "Epoch 35/50\n",
      " - 6s - loss: 0.1450 - acc: 0.9591 - val_loss: 0.1716 - val_acc: 0.9505\n",
      "Epoch 36/50\n",
      " - 7s - loss: 0.1413 - acc: 0.9599 - val_loss: 0.1683 - val_acc: 0.9509\n",
      "Epoch 37/50\n",
      " - 7s - loss: 0.1379 - acc: 0.9610 - val_loss: 0.1666 - val_acc: 0.9512\n",
      "Epoch 38/50\n",
      " - 6s - loss: 0.1344 - acc: 0.9613 - val_loss: 0.1642 - val_acc: 0.9528\n",
      "Epoch 39/50\n",
      " - 6s - loss: 0.1311 - acc: 0.9627 - val_loss: 0.1611 - val_acc: 0.9524\n",
      "Epoch 40/50\n",
      " - 6s - loss: 0.1276 - acc: 0.9642 - val_loss: 0.1577 - val_acc: 0.9536\n",
      "Epoch 41/50\n",
      " - 6s - loss: 0.1240 - acc: 0.9650 - val_loss: 0.1553 - val_acc: 0.9539\n",
      "Epoch 42/50\n",
      " - 6s - loss: 0.1209 - acc: 0.9665 - val_loss: 0.1541 - val_acc: 0.9543\n",
      "Epoch 43/50\n",
      " - 6s - loss: 0.1180 - acc: 0.9670 - val_loss: 0.1513 - val_acc: 0.9559\n",
      "Epoch 44/50\n",
      " - 6s - loss: 0.1153 - acc: 0.9676 - val_loss: 0.1497 - val_acc: 0.9560\n",
      "Epoch 45/50\n",
      " - 6s - loss: 0.1120 - acc: 0.9688 - val_loss: 0.1468 - val_acc: 0.9571\n",
      "Epoch 46/50\n",
      " - 6s - loss: 0.1092 - acc: 0.9696 - val_loss: 0.1456 - val_acc: 0.9565\n",
      "Epoch 47/50\n",
      " - 6s - loss: 0.1064 - acc: 0.9704 - val_loss: 0.1433 - val_acc: 0.9581\n",
      "Epoch 48/50\n",
      " - 6s - loss: 0.1039 - acc: 0.9712 - val_loss: 0.1415 - val_acc: 0.9586\n",
      "Epoch 49/50\n",
      " - 6s - loss: 0.1015 - acc: 0.9718 - val_loss: 0.1405 - val_acc: 0.9584\n",
      "Epoch 50/50\n",
      " - 6s - loss: 0.0989 - acc: 0.9725 - val_loss: 0.1406 - val_acc: 0.9584\n"
     ]
    }
   ],
   "source": [
    "# Building the model\n",
    "epochs = 50 # only for demo purposes\n",
    "batch_size = 128\n",
    "model = baseline_model()\n",
    "history = model.fit(x_train,y_train,epochs = epochs, batch_size=batch_size, \n",
    "          validation_split=0.33, verbose=2)\n",
    "         #callbacks=[tensorboard])\n",
    "# #tensorboard --logdir=/Users/ram/Desktop/DEEPNN/keras_basic/ \n",
    "# -- to see the output on TensorBoard"
   ]
  },
  {
   "cell_type": "code",
   "execution_count": 46,
   "metadata": {},
   "outputs": [
    {
     "data": {
      "image/png": "[encoded data removed]",
      "text/plain": [
       "<matplotlib.figure.Figure at 0x183c23dcc0>"
      ]
     },
     "metadata": {},
     "output_type": "display_data"
    }
   ],
   "source": [
    "# Summarizing the Accuracy\n",
    "plt.plot(history.history['acc'])\n",
    "plt.plot(history.history['val_acc'])\n",
    "plt.title('model accuracy')\n",
    "plt.xlabel('epoch')\n",
    "plt.ylabel('accuracy')\n",
    "plt.legend(['train','validation'], loc='upper left')\n",
    "plt.show()"
   ]
  },
  {
   "cell_type": "code",
   "execution_count": 47,
   "metadata": {},
   "outputs": [
    {
     "data": {
      "image/png": "[encoded data removed]",
      "text/plain": [
       "<matplotlib.figure.Figure at 0x183c261e48>"
      ]
     },
     "metadata": {},
     "output_type": "display_data"
    }
   ],
   "source": [
    "# Summarizing the loss function\n",
    "\n",
    "plt.plot(history.history['loss'])\n",
    "plt.plot(history.history['val_loss'])\n",
    "plt.title('model loss')\n",
    "plt.xlabel('epoch')\n",
    "plt.ylabel('accuracy')\n",
    "plt.legend(['train','validation'], loc='upper left')\n",
    "plt.show()"
   ]
  },
  {
   "cell_type": "code",
   "execution_count": null,
   "metadata": {},
   "outputs": [],
   "source": [
    "# Might be overfitting - need to make the model deep as well as introduce regularizations"
   ]
  },
  {
   "cell_type": "code",
   "execution_count": 48,
   "metadata": {},
   "outputs": [
    {
     "name": "stdout",
     "output_type": "stream",
     "text": [
      "[0.12575048444755377, 0.96350000000000002]\n",
      "Baseline Accuracy: 0.9635\n"
     ]
    }
   ],
   "source": [
    "# Evaluate the model performance\n",
    "scores = model.evaluate(x_test,y_test,verbose=0)\n",
    "print (scores)\n",
    "print('Baseline Accuracy: {}'.format(scores[1]))"
   ]
  }
 ],
 "metadata": {
  "kernelspec": {
   "display_name": "Python 3",
   "language": "python",
   "name": "python3"
  },
  "language_info": {
   "codemirror_mode": {
    "name": "ipython",
    "version": 3
   },
   "file_extension": ".py",
   "mimetype": "text/x-python",
   "name": "python",
   "nbconvert_exporter": "python",
   "pygments_lexer": "ipython3",
   "version": "3.6.3"
  }
 },
 "nbformat": 4,
 "nbformat_minor": 2
}
