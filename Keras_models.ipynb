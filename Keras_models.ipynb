{
 "cells": [
  {
   "cell_type": "code",
   "execution_count": 1,
   "metadata": {},
   "outputs": [
    {
     "name": "stderr",
     "output_type": "stream",
     "text": [
      "Using TensorFlow backend.\n"
     ]
    }
   ],
   "source": [
    "import keras"
   ]
  },
  {
   "cell_type": "code",
   "execution_count": 2,
   "metadata": {
    "collapsed": true
   },
   "outputs": [],
   "source": [
    "from keras.layers import Input, Dense\n",
    "from keras.models import Model"
   ]
  },
  {
   "cell_type": "markdown",
   "metadata": {},
   "source": [
    "# Keras functional module"
   ]
  },
  {
   "cell_type": "code",
   "execution_count": null,
   "metadata": {
    "collapsed": true
   },
   "outputs": [],
   "source": [
    "# This reutrns a tensor\n",
    "inputs = Input(shape=(784,))\n",
    "\n",
    "# a layer instance is callable on a tensor, and returns a tensor\n",
    "x = Dense(64, activation='relu')(inputs)\n",
    "x = Dense(64, activation='relu')(x)\n",
    "predictions = Dense(10, activation='softmax')(x)\n",
    "# This creates a model that includes\n",
    "# the Input layer and three Dense layers\n",
    "model = Model(inputs=inputs, outputs=predictions)\n",
    "model.compile(optimizer='rmsprop', loss='categorical_crossentropy', metircs=['accuracy'])"
   ]
  },
  {
   "cell_type": "markdown",
   "metadata": {},
   "source": [
    "# Sequential Models"
   ]
  },
  {
   "cell_type": "code",
   "execution_count": 3,
   "metadata": {},
   "outputs": [
    {
     "name": "stdout",
     "output_type": "stream",
     "text": [
      "Epoch 1/5\n",
      "64/64 [==============================] - 0s - loss: 12.2330 - acc: 0.0312     \n",
      "Epoch 2/5\n",
      "64/64 [==============================] - 0s - loss: 12.0325 - acc: 0.0469     \n",
      "Epoch 3/5\n",
      "64/64 [==============================] - 0s - loss: 11.9282 - acc: 0.0156     \n",
      "Epoch 4/5\n",
      "64/64 [==============================] - 0s - loss: 11.8715 - acc: 0.0312     \n",
      "Epoch 5/5\n",
      "64/64 [==============================] - 0s - loss: 11.8276 - acc: 0.0625     \n",
      "64/64 [==============================] - 0s\n"
     ]
    }
   ],
   "source": [
    "from keras.models import Sequential\n",
    "from keras.layers import Dense\n",
    "import numpy as np\n",
    "#Create a model\n",
    "model = Sequential()\n",
    "# Stack Layers\n",
    "model.add(Dense(units=64, activation='relu', input_dim=100))\n",
    "model.add(Dense(units=10, activation='softmax'))\n",
    "# Confiutre learning\n",
    "model.compile(loss='categorical_crossentropy', optimizer='sgd', metrics=['accuracy'])\n",
    "# create Numpy arrays\n",
    "x_train = np.random.random((64,100))\n",
    "y_train = np.random.random((64,10))\n",
    "x_test = np.random.random((64,100))\n",
    "y_test = np.random.random((64,10))\n",
    "# Training using numpy arrays\n",
    "model.fit(x_train,y_train,epochs=5, batch_size=32)\n",
    "# evaluate on existing data\n",
    "loss_and_metrics = model.evaluate(x_test,y_test, batch_size=128)\n",
    "# Generate predictions on new data\n",
    "classes = model.predict(x_test, batch_size=128)"
   ]
  },
  {
   "cell_type": "code",
   "execution_count": 5,
   "metadata": {},
   "outputs": [],
   "source": [
    "# print(classes)"
   ]
  },
  {
   "cell_type": "code",
   "execution_count": null,
   "metadata": {
    "collapsed": true
   },
   "outputs": [],
   "source": [
    "from keras.layers import Conv2D, Input\n",
    "\n",
    "# input tensor for a 3-channel 256x256 image\n",
    "x = Input(shape=(256,256,3))\n",
    "# 3x3 conv with 3 output channels (same as input channels)\n",
    "y = Conv2D(3,(3,3), padding='same')(x)\n",
    "# this returns x+y\n",
    "z = keras.layers.add([x,y])"
   ]
  },
  {
   "cell_type": "markdown",
   "metadata": {},
   "source": [
    "# Shared Vision Model"
   ]
  },
  {
   "cell_type": "code",
   "execution_count": null,
   "metadata": {
    "collapsed": true
   },
   "outputs": [],
   "source": [
    "# Shared vision model helps to classify whether two MNIST digits are the same digit or different\n",
    "# digits by reusing the same image-processing module on two imputs. Lets create one as shown below "
   ]
  },
  {
   "cell_type": "code",
   "execution_count": null,
   "metadata": {
    "collapsed": true
   },
   "outputs": [],
   "source": [
    "import keras\n",
    "from keras.layers import Conv2D, MaxPooling2D, Input, Dense, Flatten\n",
    "from keras.models import Model\n",
    "\n",
    "# First define the vision modules\n",
    "digit_input = Input(shape=(27,27,1))\n",
    "x = Conv2D(64, (3,3))(digit_input)\n",
    "x = Conv2D(64,(3,3))(x)\n",
    "x = MaxPooling2D((2,2))(x)\n",
    "out = Flatten()(x)\n",
    "vision_model = Model(digit_input, out)\n",
    "# Then define the tell-digits-apart model\n",
    "digit_a = Input(shape=(27,27,1))\n",
    "digit_b = Input(shape=(27,27,1))\n",
    "# The vision model will be shared, weights and all\n",
    "out_a = vision_model(digit_a)\n",
    "out_b = vision_model(digit_b)\n",
    "concatenated = keras.layers.concatenate([out_a,out_b])\n",
    "out = Dense(1, activation='sigmoid')(concatenated)\n",
    "classification_model = Model([digit_a, digit_b],out)"
   ]
  },
  {
   "cell_type": "markdown",
   "metadata": {},
   "source": [
    "# Visual Question Answering Model"
   ]
  },
  {
   "cell_type": "code",
   "execution_count": null,
   "metadata": {
    "collapsed": true
   },
   "outputs": [],
   "source": [
    "# lets create a model which can choose the correct one-word answer to a \n",
    "# natural-language question with a picture\n",
    "\n",
    "# It can be done by encoding the question and image into two separate vectors, \n",
    "# concatenating both of them and training on top a logistic regression over \n",
    "# some vocabulary of potential answers. Let’s try the model:\n",
    "\n",
    "# first let's define a vision model using a Sequential model.\n",
    "# This model will encode an image into a vector\n",
    "vision_model = Sequential()\n",
    "vision_model.add((Conv2D(64,(3,3),activation='relu',padding='same', input_shape=(224,224,3))))\n",
    "vision_model.add(Conv2D(64,(3,3),activation='relu'))\n",
    "vision_model.add(MaxPooling2D((2,2)))\n",
    "vision_model.add(Conv2D(128,(3,3),activation='relu',padding='same'))\n",
    "vision_model.add(Conv2D(128,(3,3),activation='relu'))\n",
    "vision_model.add(MaxPooling2D((2,2)))\n",
    "vision_model.add(Conv2D(256,(3,3),activation='relu',padding='same'))\n",
    "vision_model.add(Conv2D(256, (3, 3), activation='relu'))\n",
    "vision_model.add(Conv2D(256, (3, 3), activation='relu'))\n",
    "vision_model.add(MaxPooling2D((2, 2)))\n",
    "vision_model.add(Flatten())\n",
    "\n",
    "# Now let's get a tensor with the output of our vision model:\n",
    "image_input = Input(shape=(224,224,3))\n",
    "encoded_image = vision_model(image_input)\n",
    "\n",
    "# Next, let's define a language odel to encode the question into a vector\n",
    "# Each question will be atmost 100 word long,\n",
    "# and we will index words as integers from 1 to 9999.\n",
    "question_input = Input(shape=(100,), dtype='int32')\n",
    "embedded_question = Embedding(input_dim=10000, output_dim=256, input_length=100)(question_input)\n",
    "encoded_question = LSTM(256)(embedded_question)\n",
    "\n",
    "# Let's concatenate the question vector and the image vector\n",
    "merged = keras.layers.concatenate([encode_question, encode_image])\n",
    "\n",
    "# And let's train a logistic regression over 1000 words on top:\n",
    "output = Dense(1000, activation='softmax')(merged)\n",
    "\n",
    "# This is our final model:\n",
    "vqa_model = Model(inputs=[image_input, question_input], outputs=output)\n",
    "\n",
    "# The next stage would be training this model on actual data"
   ]
  },
  {
   "cell_type": "code",
   "execution_count": 9,
   "metadata": {},
   "outputs": [
    {
     "name": "stdout",
     "output_type": "stream",
     "text": [
      "(60000, 'train samples')\n",
      "(10000, 'test samples')\n",
      "_________________________________________________________________\n",
      "Layer (type)                 Output Shape              Param #   \n",
      "=================================================================\n",
      "dense_9 (Dense)              (None, 512)               401920    \n",
      "_________________________________________________________________\n",
      "dropout_5 (Dropout)          (None, 512)               0         \n",
      "_________________________________________________________________\n",
      "dense_10 (Dense)             (None, 512)               262656    \n",
      "_________________________________________________________________\n",
      "dropout_6 (Dropout)          (None, 512)               0         \n",
      "_________________________________________________________________\n",
      "dense_11 (Dense)             (None, 10)                5130      \n",
      "=================================================================\n",
      "Total params: 669,706\n",
      "Trainable params: 669,706\n",
      "Non-trainable params: 0\n",
      "_________________________________________________________________\n",
      "Train on 60000 samples, validate on 10000 samples\n",
      "Epoch 1/20\n",
      "60000/60000 [==============================] - 9s - loss: 0.2462 - acc: 0.9243 - val_loss: 0.1190 - val_acc: 0.9657\n",
      "Epoch 2/20\n",
      "60000/60000 [==============================] - 9s - loss: 0.1041 - acc: 0.9680 - val_loss: 0.0913 - val_acc: 0.9736\n",
      "Epoch 3/20\n",
      "60000/60000 [==============================] - 9s - loss: 0.0748 - acc: 0.9771 - val_loss: 0.0793 - val_acc: 0.9765\n",
      "Epoch 4/20\n",
      "60000/60000 [==============================] - 9s - loss: 0.0616 - acc: 0.9808 - val_loss: 0.0844 - val_acc: 0.9766\n",
      "Epoch 5/20\n",
      "60000/60000 [==============================] - 9s - loss: 0.0493 - acc: 0.9853 - val_loss: 0.0742 - val_acc: 0.9802\n",
      "Epoch 6/20\n",
      "60000/60000 [==============================] - 9s - loss: 0.0449 - acc: 0.9866 - val_loss: 0.0774 - val_acc: 0.9812\n",
      "Epoch 7/20\n",
      "60000/60000 [==============================] - 9s - loss: 0.0378 - acc: 0.9891 - val_loss: 0.0724 - val_acc: 0.9829\n",
      "Epoch 8/20\n",
      "60000/60000 [==============================] - 9s - loss: 0.0358 - acc: 0.9896 - val_loss: 0.0759 - val_acc: 0.9829\n",
      "Epoch 9/20\n",
      "60000/60000 [==============================] - 9s - loss: 0.0321 - acc: 0.9905 - val_loss: 0.0741 - val_acc: 0.9831\n",
      "Epoch 10/20\n",
      "60000/60000 [==============================] - 9s - loss: 0.0286 - acc: 0.9916 - val_loss: 0.0857 - val_acc: 0.9835\n",
      "Epoch 11/20\n",
      "60000/60000 [==============================] - 9s - loss: 0.0271 - acc: 0.9921 - val_loss: 0.0887 - val_acc: 0.9843\n",
      "Epoch 12/20\n",
      "60000/60000 [==============================] - 9s - loss: 0.0252 - acc: 0.9927 - val_loss: 0.0872 - val_acc: 0.9832\n",
      "Epoch 13/20\n",
      "60000/60000 [==============================] - 9s - loss: 0.0244 - acc: 0.9931 - val_loss: 0.0869 - val_acc: 0.9850\n",
      "Epoch 14/20\n",
      "60000/60000 [==============================] - 9s - loss: 0.0227 - acc: 0.9934 - val_loss: 0.1017 - val_acc: 0.9818\n",
      "Epoch 15/20\n",
      "60000/60000 [==============================] - 9s - loss: 0.0231 - acc: 0.9938 - val_loss: 0.1044 - val_acc: 0.9809\n",
      "Epoch 16/20\n",
      "60000/60000 [==============================] - 9s - loss: 0.0207 - acc: 0.9940 - val_loss: 0.0944 - val_acc: 0.9829\n",
      "Epoch 17/20\n",
      "60000/60000 [==============================] - 9s - loss: 0.0200 - acc: 0.9945 - val_loss: 0.0957 - val_acc: 0.9838\n",
      "Epoch 18/20\n",
      "60000/60000 [==============================] - 9s - loss: 0.0187 - acc: 0.9950 - val_loss: 0.1068 - val_acc: 0.9837\n",
      "Epoch 19/20\n",
      "60000/60000 [==============================] - 9s - loss: 0.0184 - acc: 0.9948 - val_loss: 0.0960 - val_acc: 0.9833\n",
      "Epoch 20/20\n",
      "60000/60000 [==============================] - 9s - loss: 0.0192 - acc: 0.9953 - val_loss: 0.1138 - val_acc: 0.9834\n",
      "('Test loss:', 0.11384999747793249)\n",
      "('Test accuracy:', 0.98340000000000005)\n"
     ]
    }
   ],
   "source": [
    "# Training Neural Network\n",
    "# Now that we have seen how to build different models using Keras, \n",
    "# let’s put things together and work on a complete example. \n",
    "# The following example trains a Neural Network on MNIST data set:\n",
    "import keras\n",
    "from keras.datasets import mnist\n",
    "from keras.models import Sequential\n",
    "from keras.layers import Dense, Dropout\n",
    "from keras.optimizers import RMSprop\n",
    "\n",
    "batch_size = 128\n",
    "num_classes = 10\n",
    "epochs = 20\n",
    "\n",
    "# the data, shuffled and split between train and test sets\n",
    "(x_train,y_train),(x_test,y_test) = mnist.load_data()\n",
    "\n",
    "x_train = x_train.reshape(60000,784)\n",
    "x_test = x_test.reshape(10000,784)\n",
    "x_train = x_train.astype('float32')\n",
    "x_test = x_test.astype('float32')\n",
    "x_train /= 255\n",
    "x_test /= 255\n",
    "\n",
    "print(x_train.shape[0],'train samples')\n",
    "print(x_test.shape[0], 'test samples')\n",
    "\n",
    "# convert class vectors to binary class matrices\n",
    "y_train = keras.utils.to_categorical(y_train,num_classes)\n",
    "y_test = keras.utils.to_categorical(y_test,num_classes)\n",
    "\n",
    "model = Sequential()\n",
    "model.add(Dense(512,activation='relu',input_shape=(784,)))\n",
    "model.add(Dropout(0.2))\n",
    "model.add(Dense(512,activation='relu'))\n",
    "model.add(Dropout(0.2))\n",
    "model.add(Dense(num_classes,activation='softmax'))\n",
    "\n",
    "model.summary()\n",
    "# compile model\n",
    "model.compile(loss='categorical_crossentropy',optimizer=RMSprop(),metrics=['accuracy'])\n",
    "\n",
    "history = model.fit(x_train,y_train, batch_size=batch_size,epochs=epochs,\n",
    "                   verbose=1, validation_data=(x_test,y_test))\n",
    "score = model.evaluate(x_test,y_test,verbose=0)\n",
    "# print the results\n",
    "print('Test loss:', score[0])\n",
    "print('Test accuracy:', score[1])"
   ]
  }
 ],
 "metadata": {
  "kernelspec": {
   "display_name": "Python [default]",
   "language": "python",
   "name": "python2"
  },
  "language_info": {
   "codemirror_mode": {
    "name": "ipython",
    "version": 2
   },
   "file_extension": ".py",
   "mimetype": "text/x-python",
   "name": "python",
   "nbconvert_exporter": "python",
   "pygments_lexer": "ipython2",
   "version": "2.7.14"
  }
 },
 "nbformat": 4,
 "nbformat_minor": 2
}
