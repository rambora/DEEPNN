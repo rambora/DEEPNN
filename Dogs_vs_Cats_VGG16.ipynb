{
 "cells": [
  {
   "cell_type": "markdown",
   "metadata": {},
   "source": [
    "# Kaggle: Dogs Vs Cats (using VGG16 pretrained network)"
   ]
  },
  {
   "cell_type": "code",
   "execution_count": 3,
   "metadata": {},
   "outputs": [],
   "source": [
    "import os,shutil\n",
    "import numpy as np\n",
    "import pandas as pd\n",
    "import matplotlib.pyplot as plt\n",
    "from matplotlib import ticker\n",
    "import seaborn as sns\n",
    "%matplotlib inline"
   ]
  },
  {
   "cell_type": "code",
   "execution_count": 15,
   "metadata": {},
   "outputs": [],
   "source": [
    "from keras.models import Sequential\n",
    "from keras.layers import Input,Dropout,Flatten,Conv2D,Activation,MaxPooling2D,Dense\n",
    "from keras.optimizers import RMSprop\n",
    "from keras.callbacks import ModelCheckpoint,Callback,EarlyStopping\n",
    "from keras.utils import np_utils\n",
    "from keras.preprocessing.image import ImageDataGenerator,array_to_img, img_to_array,load_img\n",
    "from keras import applications"
   ]
  },
  {
   "cell_type": "code",
   "execution_count": 9,
   "metadata": {},
   "outputs": [],
   "source": [
    "# since the data is already prepared for other runs, I am directly using those\n",
    "train_data_dir = '/Users/ram/Desktop/DS-PRACTICE-PYTHON/DEEPNN/Cat_Vs_Dog/train_sub'\n",
    "validation_data_dir = '/Users/ram/Desktop/DS-PRACTICE-PYTHON/DEEPNN/Cat_Vs_Dog/val_sub'\n",
    "nb_train_samples = 2000\n",
    "nb_validation_samples = 1100\n",
    "epochs=50\n",
    "batch_size=16\n",
    "top_model_weights_path = 'Users/ram/Desktop/DS-PRACTICE-PYTHON/DEEPNN/Cat_Vs_Dog/bottleneck_fc_model.h5'"
   ]
  },
  {
   "cell_type": "code",
   "execution_count": 11,
   "metadata": {},
   "outputs": [],
   "source": [
    "# Defining the funciton for saving the weights from VGG16 training\n",
    "\n",
    "def save_vgg16_weights():\n",
    "    datagen = ImageDataGenerator(rescale=1./255)\n",
    "    \n",
    "    # build the VGG16 network\n",
    "    model_vgg16_base = applications.VGG16(include_top=False, weights='imagenet')\n",
    "    \n",
    "    train_generator = datagen.flow_from_directory(\n",
    "                    train_data_dir,\n",
    "                    target_size=(150,150),\n",
    "                    batch_size=batch_size,\n",
    "                    class_mode=None,\n",
    "                    shuffle=False)\n",
    "    vgg16_features_train = model_vgg16_base.predict_generator(\n",
    "                    train_generator,\n",
    "                    nb_train_samples // batch_size)\n",
    "    np.save(open('vgg16_features_train.npy','w'),vgg16_features_train)\n",
    "    \n",
    "    val_generator = datagen.flow_from_directory(\n",
    "                    validation_data_dir,\n",
    "                    target_size=(150,150),\n",
    "                    batch_size=batch_size,\n",
    "                    class_mode=None,\n",
    "                    shuffle=False)\n",
    "    vgg16_features_val = model_vgg16_base.predict_generator(\n",
    "                    val_generator,\n",
    "                    nb_train_samples // batch_size)\n",
    "    np.save(open('vgg16_features_val.npy','w'),vgg16_features_val)"
   ]
  },
  {
   "cell_type": "code",
   "execution_count": 12,
   "metadata": {},
   "outputs": [],
   "source": [
    "def train_vgg16_top_model():\n",
    "    train_data = np.load(open('vgg16_features_train.npy'))\n",
    "    train_labels = np.array([0] * (nb_train_samples / 2) + [1] * (nb_train_samples / 2))\n",
    "    \n",
    "    validation_data = np.load(open('vgg16_features_val.npy'))\n",
    "    val_labels = np.array([0] * (nb_validation_samples / 2) + [1] * (nb_validation_samples / 2))\n",
    "    \n",
    "    model = Sequential()\n",
    "    model.add(Flatten(input_shape=train_data.shape[1:]))\n",
    "    model.add(Dense(256,activation='relu'))\n",
    "    model.add(Dropout(0.5))\n",
    "    model.add(Dense(1,activation='sigmoid'))\n",
    "    \n",
    "    model.compile(optimizer='rmsprop',loss='binary_crossentropy',metrics=['accuracy'])\n",
    "    model.fit(train_data,train_lables,\n",
    "             epochs=epochs,\n",
    "             batch_size=batch_size,\n",
    "             validation_data=(validation_data,validation_lables))\n",
    "    model.save_weights(top_model_weights_path)"
   ]
  },
  {
   "cell_type": "code",
   "execution_count": 17,
   "metadata": {},
   "outputs": [],
   "source": [
    "save_vgg16_weights()\n",
    "train_vgg16_top_model()"
   ]
  }
 ],
 "metadata": {
  "kernelspec": {
   "display_name": "Python 3",
   "language": "python",
   "name": "python3"
  },
  "language_info": {
   "codemirror_mode": {
    "name": "ipython",
    "version": 3
   },
   "file_extension": ".py",
   "mimetype": "text/x-python",
   "name": "python",
   "nbconvert_exporter": "python",
   "pygments_lexer": "ipython3",
   "version": "3.6.3"
  }
 },
 "nbformat": 4,
 "nbformat_minor": 2
}
