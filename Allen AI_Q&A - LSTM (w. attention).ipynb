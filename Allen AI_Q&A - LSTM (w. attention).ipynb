{
 "cells": [
  {
   "cell_type": "code",
   "execution_count": null,
   "metadata": {
    "collapsed": true
   },
   "outputs": [],
   "source": [
    "# The weights for our embeddings are initialized from running word2vec on our corpus \n",
    "# using gensim package. Attention is modeled as a dot product of the output of the \n",
    "# question and answer vectors that come out of the LSTMs. Finally, the attention \n",
    "# vector and question vectors are concatenated (mode='sum') and sent into a Dense network, \n",
    "# which outputs the probabilities for True/False and are further converted back into the characters."
   ]
  },
  {
   "cell_type": "code",
   "execution_count": 1,
   "metadata": {},
   "outputs": [
    {
     "name": "stderr",
     "output_type": "stream",
     "text": [
      "Using TensorFlow backend.\n",
      "/usr/local/anaconda/lib/python2.7/site-packages/sklearn/cross_validation.py:41: DeprecationWarning: This module was deprecated in version 0.18 in favor of the model_selection module into which all the refactored classes and functions are moved. Also note that the interface of the new CV iterators are different from that of this module. This module will be removed in 0.20.\n",
      "  \"This module will be removed in 0.20.\", DeprecationWarning)\n"
     ]
    }
   ],
   "source": [
    "from keras.layers import Input, Dense, Dropout, Reshape, Flatten, merge\n",
    "from keras.layers.embeddings import Embedding\n",
    "from keras.layers.recurrent import LSTM\n",
    "from keras.models import Model\n",
    "from keras.models import model_from_json\n",
    "from keras.preprocessing.sequence import pad_sequences\n",
    "from keras.callbacks import ModelCheckpoint\n",
    "\n",
    "from sklearn.cross_validation import train_test_split\n",
    "from gensim.models import Word2Vec\n",
    "import nltk\n",
    "from nltk.corpus import stopwords\n",
    "from nltk.stem.porter import PorterStemmer\n",
    "\n",
    "import numpy as np\n",
    "from matplotlib import pyplot\n",
    "import re\n",
    "import collections\n",
    "import os\n",
    "import sys"
   ]
  },
  {
   "cell_type": "code",
   "execution_count": 2,
   "metadata": {
    "collapsed": true
   },
   "outputs": [],
   "source": [
    "word2vec_embed_size = 100\n",
    "qa_embed_size = 64\n",
    "batch_size = 128\n",
    "nbr_epochs = 5"
   ]
  },
  {
   "cell_type": "code",
   "execution_count": 3,
   "metadata": {},
   "outputs": [
    {
     "name": "stdout",
     "output_type": "stream",
     "text": [
      "\tid\tquestion\tcorrectAnswer\tanswerA\tanswerB\tanswerC\tanswerD\r\n",
      "\n",
      "0\t100001\t\"When athletes begin to exercise, their heart rates and respiration rates increase.  At what level of organization does the human body coordinate these functions?\"\tC\tat the tissue level\tat the organ level\tat the system level\tat the cellular level\r\n",
      "\n"
     ]
    }
   ],
   "source": [
    "with open('/home/ramscrux7757/SPARK/AI_SCIENCE/train.txt', \"r\") as f:\n",
    "    print f.readline()\n",
    "    print(f.readline())"
   ]
  },
  {
   "cell_type": "code",
   "execution_count": 4,
   "metadata": {
    "collapsed": true
   },
   "outputs": [],
   "source": [
    "# processing questions and answers in training set\n",
    "# This produces a list of lists (question - words, answers - words and the boolean for correct answer)\n",
    "\n",
    "qapairs = []\n",
    "with open('/home/ramscrux7757/SPARK/AI_SCIENCE/train.txt') as train_qa:\n",
    "    next(train_qa)\n",
    "    for line in train_qa:\n",
    "        line = line.strip().decode('utf8').encode('ascii','ignore')\n",
    "        cols = line.split('\\t')\n",
    "        question = cols[2]\n",
    "        tokens = nltk.word_tokenize(question)\n",
    "    # filter alphanumerics\n",
    "        words = [word for word in tokens if word.isalpha()]\n",
    "    # filter stopwords\n",
    "        stop_words = set(stopwords.words('english'))\n",
    "        qwords = [W for W in words if not W in stop_words]\n",
    "    # normalize cases\n",
    "        qwords = [word.lower() for word in qwords]\n",
    "    # Stemming of Words\n",
    "        porter = PorterStemmer()\n",
    "        qwords = [porter.stem(word) for word in qwords]\n",
    "        qwords = [s.encode('UTF-8', 'strict') for s in qwords]\n",
    "        \n",
    "    # filter correct answers\n",
    "        correct_ans = cols[3]\n",
    "    # filter all the answers\n",
    "        answers = cols[4:]\n",
    "    # training file parsing\n",
    "        correct_ans_idx = ord(correct_ans) - ord('A') # 'ord' - converts character to integer\n",
    "        for idx,answer in enumerate(answers):\n",
    "            tokens2 = nltk.word_tokenize(answer)                 # tokenization\n",
    "            words = [word for word in tokens2 if word.isalpha()] # alphanumeric\n",
    "            stop_words2 = set(stopwords.words('english'))        # stopwords\n",
    "            awords = [W for W in words if not W in stop_words2]\n",
    "            awords = [word.lower() for word in awords]           # normalization\n",
    "            awords = [porter.stem(word) for word in awords]      # stemming\n",
    "            awords = [s.encode('UTF-8', 'strict') for s in awords] # unicode to UTF-8\n",
    "        \n",
    "            qapairs.append((qwords,awords, idx == correct_ans_idx)) # (idx == correct_ans_idx -- returns a boolean)"
   ]
  },
  {
   "cell_type": "code",
   "execution_count": 48,
   "metadata": {},
   "outputs": [
    {
     "name": "stdout",
     "output_type": "stream",
     "text": [
      "(['when', 'athlet', 'begin', 'exercis', 'heart', 'rate', 'respir', 'rate', 'increas', 'at', 'level', 'organ', 'human', 'bodi', 'coordin', 'function'], ['system', 'level'], True)\n",
      "['when', 'athlet', 'begin', 'exercis', 'heart', 'rate', 'respir', 'rate', 'increas', 'at', 'level', 'organ', 'human', 'bodi', 'coordin', 'function']\n",
      "['tissu', 'level']\n",
      "True\n"
     ]
    }
   ],
   "source": [
    "print(qapairs[2])\n",
    "print(qapairs[0][0]) # 1st questions\n",
    "print(qapairs[0][1]) # option 'A' for first question - each question carries 3 options\n",
    "print(qapairs[2][2]) # Determines whether its the right answer or not (boolean) - indexing"
   ]
  },
  {
   "cell_type": "code",
   "execution_count": 92,
   "metadata": {},
   "outputs": [],
   "source": [
    "#for qapair in qapairs:\n",
    "#    print(qapair[0]) # question\n",
    "#    print(qapair[1]) # choice of answers\n",
    "#    print(qapair[2]) # index as boolean"
   ]
  },
  {
   "cell_type": "code",
   "execution_count": 6,
   "metadata": {
    "collapsed": true
   },
   "outputs": [],
   "source": [
    "# processing the test set\n",
    "\n",
    "tqapairs = []\n",
    "with open('/home/ramscrux7757/SPARK/AI_SCIENCE/test.txt') as test_qa:\n",
    "    next(test_qa)\n",
    "    \n",
    "    for line in test_qa:\n",
    "        line = line.strip().decode('utf8').encode('ascii','ignore')\n",
    "        cols = line.split('\\t')\n",
    "        question = cols[2]\n",
    "        tokens = nltk.word_tokenize(question)\n",
    "    # filter alphanumeric\n",
    "        words = [word for word in tokens if word.isalpha()]\n",
    "    # filter stopwords\n",
    "        stop_words = set(stopwords.words('english'))\n",
    "        tqwords = [W for W in words if not W in stop_words]\n",
    "    # normalize cases\n",
    "        tqwords = [word.lower() for word in tqwords]\n",
    "    # Stemming of Words\n",
    "        porter = PorterStemmer()\n",
    "        tqwords = [porter.stem(word) for word in tqwords]\n",
    "        tqwords = [s.encode('UTF-8', 'strict') for s in tqwords]\n",
    "    \n",
    "    #filter answers\n",
    "        answers = cols[3:]\n",
    "\n",
    "        for answer in answers:\n",
    "            tokens2 = nltk.word_tokenize(answer)\n",
    "            words = [word for word in tokens2 if word.isalpha()]\n",
    "            stop_words2 = set(stopwords.words('english'))\n",
    "            tawords = [W for W in words if not W in stop_words2]\n",
    "            tawords = [word.lower() for word in tawords]\n",
    "            tawords = [porter.stem(word) for word in tawords]\n",
    "            tawords = [s.encode('UTF-8', 'strict') for s in tawords]\n",
    "        \n",
    "            tqapairs.append((tqwords,tawords, None))"
   ]
  },
  {
   "cell_type": "code",
   "execution_count": 7,
   "metadata": {},
   "outputs": [
    {
     "name": "stdout",
     "output_type": "stream",
     "text": [
      "(['a', 'meter', 'industri', 'develop', 'process', 'heat', 'cool', 'exampl', 'bodi', 'system'], ['cool', 'food', 'ship'], None)\n"
     ]
    }
   ],
   "source": [
    "print(tqapairs[0])\n",
    "#print(qapairs[0][0]) # 1st questions\n",
    "#print(qapairs[0][1]) # option 'A' for first question - each question carries 3 options\n",
    "#print(qapairs[2][2]) # Determines whether its the right answer or not (boolean) - indexing"
   ]
  },
  {
   "cell_type": "code",
   "execution_count": 8,
   "metadata": {},
   "outputs": [
    {
     "name": "stdout",
     "output_type": "stream",
     "text": [
      "100\n",
      "15\n",
      "81\n",
      "15\n"
     ]
    }
   ],
   "source": [
    "# Dimensions for questions and answers\n",
    "tr_qns_maxlen = max([len(qapair[0]) for qapair in qapairs])\n",
    "tr_ans_maxlen = max([len(qapair[1]) for qapair in qapairs])\n",
    "\n",
    "tst_qns_maxlen = max([len(qapair[0]) for qapair in tqapairs])\n",
    "tst_ans_maxlen = max([len(qapair[1]) for qapair in tqapairs])\n",
    "\n",
    "print(tr_qns_maxlen)\n",
    "print(tr_ans_maxlen)\n",
    "print(tst_qns_maxlen)\n",
    "print(tst_ans_maxlen)"
   ]
  },
  {
   "cell_type": "code",
   "execution_count": 9,
   "metadata": {},
   "outputs": [
    {
     "name": "stdout",
     "output_type": "stream",
     "text": [
      "100\n"
     ]
    }
   ],
   "source": [
    "# Determining the length of the word vectors\n",
    "seq_maxlen = max([tr_qns_maxlen, tr_ans_maxlen, tst_qns_maxlen, tst_ans_maxlen])\n",
    "print(seq_maxlen)"
   ]
  },
  {
   "cell_type": "code",
   "execution_count": 10,
   "metadata": {
    "collapsed": true
   },
   "outputs": [],
   "source": [
    "# create a dictionary of words with indexes - \n",
    "# starts with the word count and collects the unique words \n",
    "# and iterates/enumerate (indexes) them\n",
    "\n",
    "def build_vocab(qapairs, testqs):\n",
    "    wordcounts = collections.Counter()\n",
    "    for qapair in qapairs:\n",
    "        for qword in qapair[0]:\n",
    "            wordcounts[qword] += 1\n",
    "        for aword in qapair[1]:\n",
    "            wordcounts[aword] += 1\n",
    "    for testq in testqs:\n",
    "        for qword in testq[0]:\n",
    "            wordcounts[qword] += 1\n",
    "        for aword in testq[1]:\n",
    "            wordcounts[aword] += 1\n",
    "    words = [wordcount[0] for wordcount in wordcounts.most_common()]\n",
    "    word2idx = {w: i+1 for i, w in enumerate(words)}  # 0 = mask\n",
    "    return word2idx"
   ]
  },
  {
   "cell_type": "code",
   "execution_count": 93,
   "metadata": {},
   "outputs": [],
   "source": [
    "# each word along with its index in the vocabulary space\n",
    "\n",
    "word2idx = build_vocab(qapairs,tqapairs)\n",
    "vocab_size = len(word2idx) + 1\n",
    "#print(vocab_size)\n",
    "#print(word2idx)"
   ]
  },
  {
   "cell_type": "code",
   "execution_count": 12,
   "metadata": {},
   "outputs": [
    {
     "name": "stdout",
     "output_type": "stream",
     "text": [
      "5735\n",
      "['xylem', 'woodi', 'yellow', 'interchang', 'four', 'prefix', 'authorit', 'accret', 'chlorophyl', 'pigment']\n"
     ]
    }
   ],
   "source": [
    "vocab = []\n",
    "for key in word2idx.keys():\n",
    "  vocab.append(key)\n",
    "\n",
    "print(len(vocab))\n",
    "print(vocab[0:10])"
   ]
  },
  {
   "cell_type": "code",
   "execution_count": 94,
   "metadata": {},
   "outputs": [],
   "source": [
    "#vocab"
   ]
  },
  {
   "cell_type": "code",
   "execution_count": 14,
   "metadata": {
    "collapsed": true
   },
   "outputs": [],
   "source": [
    "# based on the vocabulary space created above, the corresponding \n",
    "# questions and answers lists (in qapairs) are re-represented by the corresponding\n",
    "# numeric index followed by the padding (add's '0's starting from location '0') \n",
    "# to match to the seq_maxlen\n",
    "\n",
    "def vectorize_qapairs(qapairs, word2idx, seq_maxlen):\n",
    "    Xq, Xa, Y = [], [], []\n",
    "    for qapair in qapairs:\n",
    "        Xq.append([word2idx[qword] for qword in qapair[0]])\n",
    "        Xa.append([word2idx[aword] for aword in qapair[1]])\n",
    "        Y.append(np.array([1, 0]) if qapair[2] else np.array([0, 1]))\n",
    "    return (pad_sequences(Xq, maxlen=seq_maxlen), \n",
    "            pad_sequences(Xa, maxlen=seq_maxlen),\n",
    "            np.array(Y))"
   ]
  },
  {
   "cell_type": "code",
   "execution_count": 15,
   "metadata": {},
   "outputs": [
    {
     "name": "stdout",
     "output_type": "stream",
     "text": [
      "[[   0    0    0 ...,   17 2676   45]\n",
      " [   0    0    0 ...,   17 2676   45]\n",
      " [   0    0    0 ...,   17 2676   45]\n",
      " ..., \n",
      " [   0    0    0 ...,  527   46  187]\n",
      " [   0    0    0 ...,  527   46  187]\n",
      " [   0    0    0 ...,  527   46  187]]\n",
      "[[   0    0    0 ...,    0  287  196]\n",
      " [   0    0    0 ...,    0    6  196]\n",
      " [   0    0    0 ...,    0   16  196]\n",
      " ..., \n",
      " [   0    0    0 ...,   10 1392 5628]\n",
      " [   0    0    0 ...,   49  329 1915]\n",
      " [   0    0    0 ...,  527 1093 2226]]\n",
      "[[0 1]\n",
      " [0 1]\n",
      " [1 0]\n",
      " ..., \n",
      " [0 1]\n",
      " [0 1]\n",
      " [1 0]]\n"
     ]
    }
   ],
   "source": [
    "# index encoded qapairs vectors\n",
    "Xq, Xa, Y = vectorize_qapairs(qapairs, word2idx, seq_maxlen)\n",
    "print(Xq)\n",
    "print(Xa)\n",
    "print(Y)"
   ]
  },
  {
   "cell_type": "markdown",
   "metadata": {},
   "source": [
    "# generating wordembeddings using gensim package"
   ]
  },
  {
   "cell_type": "code",
   "execution_count": 17,
   "metadata": {
    "collapsed": true
   },
   "outputs": [],
   "source": [
    "# converts the lists of list to a flat list\n",
    "# flat_list = [item for sublist in vocab2 for item in sublist]"
   ]
  },
  {
   "cell_type": "code",
   "execution_count": 16,
   "metadata": {},
   "outputs": [
    {
     "name": "stdout",
     "output_type": "stream",
     "text": [
      "Word2Vec(vocab=5735, size=100, alpha=0.025)\n"
     ]
    }
   ],
   "source": [
    "# Generating embedding model using gensim\n",
    "\n",
    "# train model \n",
    "ebd_model = Word2Vec([vocab], min_count = 1)\n",
    "# summrize the moaded model\n",
    "print(ebd_model)\n",
    "\n",
    "# summarize vocabulary\n",
    "#words = list(model.wv.vocab)\n",
    "#print(words)\n",
    "\n",
    "# access for vector for one word\n",
    "#print(model['athletes'])\n",
    "\n",
    "# save model\n",
    "ebd_model.save('/home/ramscrux7757/SPARK/AI_SCIENCE/ebd_model.bin')"
   ]
  },
  {
   "cell_type": "code",
   "execution_count": 17,
   "metadata": {},
   "outputs": [
    {
     "name": "stdout",
     "output_type": "stream",
     "text": [
      "[  2.91042659e-03   2.49395682e-03  -4.18240158e-03  -1.65743125e-03\n",
      "   2.89677293e-03   3.02499766e-03   3.10987374e-03  -4.59121354e-03\n",
      "  -4.70060902e-03   2.91275466e-03   4.78292909e-03   1.27905584e-03\n",
      "  -3.00291926e-03  -4.02065134e-03  -3.25951097e-03   3.14298226e-03\n",
      "   1.62889529e-03   1.79575360e-03   1.64707063e-03   1.73439912e-03\n",
      "   4.04637493e-03   4.82955336e-04   1.85453310e-03  -1.81779847e-03\n",
      "  -4.94532927e-04  -2.54604011e-03   1.70876936e-03   9.12451418e-04\n",
      "   3.66605585e-04   3.56892636e-03  -1.11761491e-03   2.51542078e-03\n",
      "  -4.03980631e-03   2.33085686e-03  -2.62790173e-03   4.96898172e-03\n",
      "  -2.08235905e-03   4.48652869e-03   4.22187103e-03  -6.51758397e-04\n",
      "  -2.23297207e-03  -3.53306183e-03  -7.13144036e-05  -4.31352155e-03\n",
      "   8.81786866e-04   4.99189971e-03  -3.22834821e-03  -2.41151266e-03\n",
      "   5.16865926e-04   3.69538204e-03  -1.44541077e-03   1.32763362e-03\n",
      "   3.41612939e-03   1.18610007e-03   4.18455293e-03  -8.07214994e-04\n",
      "   3.03713558e-03   1.56300061e-03  -1.14547182e-03   2.75444565e-03\n",
      "  -8.04641750e-04   3.72998347e-03   1.60866173e-03  -2.00418886e-04\n",
      "  -3.45045282e-03  -8.68252886e-04   4.58775507e-03   4.42421064e-03\n",
      "   3.92366783e-04  -4.21363674e-03   3.93568352e-03  -3.34461220e-03\n",
      "  -4.83735232e-03   2.00627046e-03   1.08981866e-03  -4.18146094e-03\n",
      "   1.86865416e-03  -3.29733687e-03   2.38885565e-04  -4.59920702e-05\n",
      "   3.56721313e-04   2.55280465e-04  -2.59637856e-03   3.99745069e-03\n",
      "  -1.05514354e-03  -1.75907440e-03  -1.12220761e-03  -8.57748208e-04\n",
      "  -3.00825061e-03   3.74237471e-03  -3.14180832e-03  -2.36984815e-05\n",
      "  -3.46772070e-03   8.76652426e-04  -3.85535671e-03  -1.49304059e-03\n",
      "   4.93653025e-03  -1.51491887e-03   6.56708260e-04  -4.73161973e-03]\n"
     ]
    }
   ],
   "source": [
    "print(ebd_model['xylem'])"
   ]
  },
  {
   "cell_type": "code",
   "execution_count": 18,
   "metadata": {
    "collapsed": true
   },
   "outputs": [],
   "source": [
    "# this converts the word based embedding vector representations (shown above)\n",
    "# to index based (as per the vocabulary indexes)\n",
    "\n",
    "w2v_embed_size = 100\n",
    "vocab_size = len(word2idx) + 1\n",
    "embedding_weights = np.zeros((vocab_size, w2v_embed_size))\n",
    "for word, index in word2idx.items():\n",
    "    embedding_weights[index, :] = ebd_model[word]"
   ]
  },
  {
   "cell_type": "code",
   "execution_count": 19,
   "metadata": {},
   "outputs": [
    {
     "data": {
      "text/plain": [
       "array([  2.91042659e-03,   2.49395682e-03,  -4.18240158e-03,\n",
       "        -1.65743125e-03,   2.89677293e-03,   3.02499766e-03,\n",
       "         3.10987374e-03,  -4.59121354e-03,  -4.70060902e-03,\n",
       "         2.91275466e-03,   4.78292909e-03,   1.27905584e-03,\n",
       "        -3.00291926e-03,  -4.02065134e-03,  -3.25951097e-03,\n",
       "         3.14298226e-03,   1.62889529e-03,   1.79575360e-03,\n",
       "         1.64707063e-03,   1.73439912e-03,   4.04637493e-03,\n",
       "         4.82955336e-04,   1.85453310e-03,  -1.81779847e-03,\n",
       "        -4.94532927e-04,  -2.54604011e-03,   1.70876936e-03,\n",
       "         9.12451418e-04,   3.66605585e-04,   3.56892636e-03,\n",
       "        -1.11761491e-03,   2.51542078e-03,  -4.03980631e-03,\n",
       "         2.33085686e-03,  -2.62790173e-03,   4.96898172e-03,\n",
       "        -2.08235905e-03,   4.48652869e-03,   4.22187103e-03,\n",
       "        -6.51758397e-04,  -2.23297207e-03,  -3.53306183e-03,\n",
       "        -7.13144036e-05,  -4.31352155e-03,   8.81786866e-04,\n",
       "         4.99189971e-03,  -3.22834821e-03,  -2.41151266e-03,\n",
       "         5.16865926e-04,   3.69538204e-03,  -1.44541077e-03,\n",
       "         1.32763362e-03,   3.41612939e-03,   1.18610007e-03,\n",
       "         4.18455293e-03,  -8.07214994e-04,   3.03713558e-03,\n",
       "         1.56300061e-03,  -1.14547182e-03,   2.75444565e-03,\n",
       "        -8.04641750e-04,   3.72998347e-03,   1.60866173e-03,\n",
       "        -2.00418886e-04,  -3.45045282e-03,  -8.68252886e-04,\n",
       "         4.58775507e-03,   4.42421064e-03,   3.92366783e-04,\n",
       "        -4.21363674e-03,   3.93568352e-03,  -3.34461220e-03,\n",
       "        -4.83735232e-03,   2.00627046e-03,   1.08981866e-03,\n",
       "        -4.18146094e-03,   1.86865416e-03,  -3.29733687e-03,\n",
       "         2.38885565e-04,  -4.59920702e-05,   3.56721313e-04,\n",
       "         2.55280465e-04,  -2.59637856e-03,   3.99745069e-03,\n",
       "        -1.05514354e-03,  -1.75907440e-03,  -1.12220761e-03,\n",
       "        -8.57748208e-04,  -3.00825061e-03,   3.74237471e-03,\n",
       "        -3.14180832e-03,  -2.36984815e-05,  -3.46772070e-03,\n",
       "         8.76652426e-04,  -3.85535671e-03,  -1.49304059e-03,\n",
       "         4.93653025e-03,  -1.51491887e-03,   6.56708260e-04,\n",
       "        -4.73161973e-03])"
      ]
     },
     "execution_count": 19,
     "metadata": {},
     "output_type": "execute_result"
    }
   ],
   "source": [
    "embedding_weights[1558] # xylem"
   ]
  },
  {
   "cell_type": "code",
   "execution_count": 22,
   "metadata": {
    "collapsed": true
   },
   "outputs": [],
   "source": [
    "# if we want to load the embedding model\n",
    "#word2vec = Word2Vec.load('/home/ramscrux7757/SPARK/AI_SCIENCE/ebd_model.bin')"
   ]
  },
  {
   "cell_type": "code",
   "execution_count": 20,
   "metadata": {
    "collapsed": true
   },
   "outputs": [],
   "source": [
    "# Visualizing wordembeddings\n",
    "X = ebd_model[ebd_model.wv.vocab]"
   ]
  },
  {
   "cell_type": "code",
   "execution_count": 23,
   "metadata": {},
   "outputs": [
    {
     "data": {
      "image/png": "[encoded data removed]",
      "text/plain": [
       "<matplotlib.figure.Figure at 0x7f954a8621d0>"
      ]
     },
     "metadata": {},
     "output_type": "display_data"
    }
   ],
   "source": [
    "# plot word vectors using PCA\n",
    "from matplotlib import pyplot\n",
    "from sklearn.decomposition import PCA\n",
    "pca = PCA(n_components = 2)\n",
    "result = pca.fit_transform(X)\n",
    "# create a scatter plot\n",
    "pyplot.scatter(result[:,0],result[:,1])\n",
    "words = list(ebd_model.wv.vocab)\n",
    "for i, word in enumerate(words):\n",
    "    pyplot.annotate(word, xy=(result[i,0], result[i,1]))\n",
    "pyplot.show()"
   ]
  },
  {
   "cell_type": "code",
   "execution_count": 97,
   "metadata": {
    "collapsed": true
   },
   "outputs": [],
   "source": [
    "# if we want to use google word2vec\n",
    "#from gensim.models import Word2Vec\n",
    "#word2vec = KeyedVectors.load_word2vec_format('/home/ramscrux7757/SPARK/AI_SCIENCE/GoogleNews-vectors-negative300.bin', binary=True)"
   ]
  },
  {
   "cell_type": "markdown",
   "metadata": {},
   "source": [
    "# Modeling part (LSTM w/ Attention)"
   ]
  },
  {
   "cell_type": "code",
   "execution_count": 21,
   "metadata": {},
   "outputs": [
    {
     "name": "stdout",
     "output_type": "stream",
     "text": [
      "((7000, 100), (3000, 100), (7000, 100), (3000, 100), (7000, 2), (3000, 2))\n"
     ]
    }
   ],
   "source": [
    "# Splitting the data\n",
    "Xqtrain, Xqtest, Xatrain,Xatest,Ytrain,Ytest = train_test_split(Xq,Xa,Y,test_size=0.3,random_state=123)\n",
    "print(Xqtrain.shape, Xqtest.shape,Xatrain.shape,Xatest.shape,Ytrain.shape,Ytest.shape)\n",
    "\n",
    "# Y - is a True/False matrix w.r.to 'A'"
   ]
  },
  {
   "cell_type": "code",
   "execution_count": 22,
   "metadata": {
    "collapsed": true
   },
   "outputs": [],
   "source": [
    "# network for questions\n",
    "qin = Input(shape=(seq_maxlen,), dtype=\"int32\") # seq_maxlen = 100\n",
    "# vocab_size = 5736; WORD2VEC_EMBED_SIZE = 100\n",
    "\n",
    "qenc = Embedding(input_dim=vocab_size,\n",
    "                 output_dim=word2vec_embed_size,\n",
    "                 input_length=seq_maxlen,\n",
    "                 weights=[embedding_weights])(qin)\n",
    "\n",
    "# QA_EMBED_SIZE = 64\n",
    "qenc = LSTM(qa_embed_size, return_sequences=True)(qenc)\n",
    "qenc = Dropout(0.3)(qenc)"
   ]
  },
  {
   "cell_type": "code",
   "execution_count": 23,
   "metadata": {
    "collapsed": true
   },
   "outputs": [],
   "source": [
    "# network for answers\n",
    "# output: (None, QA_EMBED_SIZE, seq_maxlen)\n",
    "ain = Input(shape=(seq_maxlen,), dtype=\"int32\")\n",
    "aenc = Embedding(input_dim=vocab_size,\n",
    "                 output_dim= word2vec_embed_size,\n",
    "                 input_length=seq_maxlen,\n",
    "                 weights=[embedding_weights])(ain)\n",
    "aenc = LSTM(qa_embed_size, return_sequences=True)(aenc)\n",
    "aenc = Dropout(0.3)(aenc)"
   ]
  },
  {
   "cell_type": "code",
   "execution_count": 24,
   "metadata": {},
   "outputs": [
    {
     "name": "stdout",
     "output_type": "stream",
     "text": [
      "____________________________________________________________________________________________________\n",
      "Layer (type)                     Output Shape          Param #     Connected to                     \n",
      "====================================================================================================\n",
      "input_1 (InputLayer)             (None, 100)           0                                            \n",
      "____________________________________________________________________________________________________\n",
      "input_2 (InputLayer)             (None, 100)           0                                            \n",
      "____________________________________________________________________________________________________\n",
      "embedding_1 (Embedding)          (None, 100, 100)      573600      input_1[0][0]                    \n",
      "____________________________________________________________________________________________________\n",
      "embedding_2 (Embedding)          (None, 100, 100)      573600      input_2[0][0]                    \n",
      "____________________________________________________________________________________________________\n",
      "lstm_1 (LSTM)                    (None, 100, 64)       42240       embedding_1[0][0]                \n",
      "____________________________________________________________________________________________________\n",
      "lstm_2 (LSTM)                    (None, 100, 64)       42240       embedding_2[0][0]                \n",
      "____________________________________________________________________________________________________\n",
      "dropout_1 (Dropout)              (None, 100, 64)       0           lstm_1[0][0]                     \n",
      "____________________________________________________________________________________________________\n",
      "dropout_2 (Dropout)              (None, 100, 64)       0           lstm_2[0][0]                     \n",
      "____________________________________________________________________________________________________\n",
      "merge_1 (Merge)                  (None, 64, 64)        0           dropout_1[0][0]                  \n",
      "                                                                   dropout_2[0][0]                  \n",
      "____________________________________________________________________________________________________\n",
      "flatten_1 (Flatten)              (None, 4096)          0           merge_1[0][0]                    \n",
      "____________________________________________________________________________________________________\n",
      "dense_1 (Dense)                  (None, 6400)          26220800    flatten_1[0][0]                  \n",
      "____________________________________________________________________________________________________\n",
      "reshape_1 (Reshape)              (None, 100, 64)       0           dense_1[0][0]                    \n",
      "____________________________________________________________________________________________________\n",
      "merge_2 (Merge)                  (None, 100, 64)       0           dropout_1[0][0]                  \n",
      "                                                                   reshape_1[0][0]                  \n",
      "____________________________________________________________________________________________________\n",
      "flatten_2 (Flatten)              (None, 6400)          0           merge_2[0][0]                    \n",
      "____________________________________________________________________________________________________\n",
      "dense_2 (Dense)                  (None, 2)             12802       flatten_2[0][0]                  \n",
      "====================================================================================================\n",
      "Total params: 27,465,282\n",
      "Trainable params: 27,465,282\n",
      "Non-trainable params: 0\n",
      "____________________________________________________________________________________________________\n",
      "None\n"
     ]
    },
    {
     "name": "stderr",
     "output_type": "stream",
     "text": [
      "/usr/local/anaconda/lib/python2.7/site-packages/ipykernel/__main__.py:2: UserWarning: The `merge` function is deprecated and will be removed after 08/2017. Use instead layers from `keras.layers.merge`, e.g. `add`, `concatenate`, etc.\n",
      "  from ipykernel import kernelapp as app\n",
      "/usr/local/anaconda/lib/python2.7/site-packages/keras/legacy/layers.py:458: UserWarning: The `Merge` layer is deprecated and will be removed after 08/2017. Use instead layers from `keras.layers.merge`, e.g. `add`, `concatenate`, etc.\n",
      "  name=name)\n",
      "/usr/local/anaconda/lib/python2.7/site-packages/ipykernel/__main__.py:8: UserWarning: The `merge` function is deprecated and will be removed after 08/2017. Use instead layers from `keras.layers.merge`, e.g. `add`, `concatenate`, etc.\n",
      "/usr/local/anaconda/lib/python2.7/site-packages/ipykernel/__main__.py:13: UserWarning: Update your `Model` call to the Keras 2 API: `Model(outputs=[<tf.Tenso..., inputs=[<tf.Tenso...)`\n"
     ]
    }
   ],
   "source": [
    "# attention model (dot product)\n",
    "attn = merge([qenc, aenc], mode=\"dot\", dot_axes=[1, 1])\n",
    "attn = Flatten()(attn)\n",
    "attn = Dense(seq_maxlen * qa_embed_size)(attn)\n",
    "attn = Reshape((seq_maxlen, qa_embed_size))(attn)\n",
    "\n",
    "# merging using 'sum'\n",
    "qenc_attn = merge([qenc, attn], mode=\"sum\")\n",
    "qenc_attn = Flatten()(qenc_attn)\n",
    "\n",
    "output = Dense(2, activation=\"softmax\")(qenc_attn)\n",
    "\n",
    "model = Model(input=[qin, ain], output=[output])\n",
    "\n",
    "model.compile(optimizer=\"adam\", loss=\"categorical_crossentropy\",metrics=[\"accuracy\"])\n",
    "\n",
    "print(model.summary())"
   ]
  },
  {
   "cell_type": "code",
   "execution_count": 25,
   "metadata": {},
   "outputs": [
    {
     "name": "stderr",
     "output_type": "stream",
     "text": [
      "/usr/local/anaconda/lib/python2.7/site-packages/ipykernel/__main__.py:7: UserWarning: The `nb_epoch` argument in `fit` has been renamed `epochs`.\n"
     ]
    },
    {
     "name": "stdout",
     "output_type": "stream",
     "text": [
      "Train on 6300 samples, validate on 700 samples\n",
      "Epoch 1/10\n",
      "6272/6300 [============================>.] - ETA: 0s - loss: 0.5711 - acc: 0.7433Epoch 00000: val_loss improved from inf to 0.57969, saving model to /home/ramscrux7757/SPARK/AI_SCIENCE/qa-lstm-attn-best.hdf5\n",
      "6300/6300 [==============================] - 89s - loss: 0.5712 - acc: 0.7432 - val_loss: 0.5797 - val_acc: 0.7343\n",
      "Epoch 2/10\n",
      "6272/6300 [============================>.] - ETA: 0s - loss: 0.5625 - acc: 0.7503Epoch 00001: val_loss did not improve\n",
      "6300/6300 [==============================] - 84s - loss: 0.5631 - acc: 0.7498 - val_loss: 0.5804 - val_acc: 0.7343\n",
      "Epoch 3/10\n",
      "6272/6300 [============================>.] - ETA: 0s - loss: 0.5580 - acc: 0.7511Epoch 00002: val_loss did not improve\n",
      "6300/6300 [==============================] - 85s - loss: 0.5589 - acc: 0.7498 - val_loss: 0.6496 - val_acc: 0.6443\n",
      "Epoch 4/10\n",
      "6272/6300 [============================>.] - ETA: 0s - loss: 0.5060 - acc: 0.7661Epoch 00003: val_loss did not improve\n",
      "6300/6300 [==============================] - 81s - loss: 0.5064 - acc: 0.7659 - val_loss: 0.6726 - val_acc: 0.7214\n",
      "Epoch 5/10\n",
      "6272/6300 [============================>.] - ETA: 0s - loss: 0.4214 - acc: 0.8036Epoch 00004: val_loss did not improve\n",
      "6300/6300 [==============================] - 89s - loss: 0.4220 - acc: 0.8030 - val_loss: 0.8366 - val_acc: 0.6686\n",
      "Epoch 6/10\n",
      "6272/6300 [============================>.] - ETA: 0s - loss: 0.3622 - acc: 0.8289Epoch 00005: val_loss did not improve\n",
      "6300/6300 [==============================] - 93s - loss: 0.3622 - acc: 0.8289 - val_loss: 0.9477 - val_acc: 0.6957\n",
      "Epoch 7/10\n",
      "6272/6300 [============================>.] - ETA: 0s - loss: 0.3213 - acc: 0.8482Epoch 00006: val_loss did not improve\n",
      "6300/6300 [==============================] - 86s - loss: 0.3210 - acc: 0.8484 - val_loss: 1.3140 - val_acc: 0.6400\n",
      "Epoch 8/10\n",
      "6272/6300 [============================>.] - ETA: 0s - loss: 0.2663 - acc: 0.8798Epoch 00007: val_loss did not improve\n",
      "6300/6300 [==============================] - 86s - loss: 0.2659 - acc: 0.8800 - val_loss: 1.5524 - val_acc: 0.6014\n",
      "Epoch 9/10\n",
      "6272/6300 [============================>.] - ETA: 0s - loss: 0.2196 - acc: 0.8986Epoch 00008: val_loss did not improve\n",
      "6300/6300 [==============================] - 84s - loss: 0.2199 - acc: 0.8983 - val_loss: 1.8478 - val_acc: 0.5929\n",
      "Epoch 10/10\n",
      "6272/6300 [============================>.] - ETA: 0s - loss: 0.1893 - acc: 0.9142Epoch 00009: val_loss did not improve\n",
      "6300/6300 [==============================] - 84s - loss: 0.1896 - acc: 0.9141 - val_loss: 1.9064 - val_acc: 0.6171\n",
      "Evaluation...\n",
      "3000/3000 [==============================] - 8s     \n",
      "Test loss/accuracy final model = 1.7597, 0.6330\n"
     ]
    }
   ],
   "source": [
    "# training the data and saving the model\n",
    "checkpoint = ModelCheckpoint(\n",
    "    filepath=('/home/ramscrux7757/SPARK/AI_SCIENCE/qa-lstm-attn-best.hdf5'),\n",
    "    verbose=1, save_best_only=True)\n",
    "\n",
    "history = model.fit([Xqtrain, Xatrain], [Ytrain], batch_size=batch_size, \n",
    "                    nb_epoch=10, validation_split=0.1,callbacks=[checkpoint])\n",
    "\n",
    "print(\"Evaluation...\")\n",
    "loss, acc = model.evaluate([Xqtest, Xatest], [Ytest], batch_size=batch_size)\n",
    "print(\"Test loss/accuracy final model = %.4f, %.4f\" % (loss, acc))\n",
    "# save the model\n",
    "#model.save('/home/ramscrux7757/SPARK/AI_SCIENCE/model.h5')"
   ]
  },
  {
   "cell_type": "code",
   "execution_count": 35,
   "metadata": {
    "collapsed": true
   },
   "outputs": [],
   "source": [
    "# Summarizing the Accuracy\n",
    "#import matplotlib.pyplot as plt\n",
    "#plt.plot(history.history['acc'])\n",
    "#plt.plot(history.history['val_acc'])\n",
    "#plt.title('model accuracy')\n",
    "#plt.xlabel('epoch')\n",
    "#plt.ylabel('accuracy')\n",
    "#plt.legend(['train','validation'], loc='upper left')\n",
    "#plt.show()"
   ]
  },
  {
   "cell_type": "code",
   "execution_count": 26,
   "metadata": {},
   "outputs": [
    {
     "name": "stderr",
     "output_type": "stream",
     "text": [
      "/usr/local/anaconda/lib/python2.7/site-packages/keras/engine/topology.py:1252: UserWarning: The `Merge` layer is deprecated and will be removed after 08/2017. Use instead layers from `keras.layers.merge`, e.g. `add`, `concatenate`, etc.\n",
      "  return cls(**config)\n"
     ]
    },
    {
     "name": "stdout",
     "output_type": "stream",
     "text": [
      "3000/3000 [==============================] - 8s     \n",
      "Test loss/accuracy best model = 0.558684201399, 0.754000000318\n"
     ]
    }
   ],
   "source": [
    "# loading the model and evaluating the test data\n",
    "from keras.models import load_model\n",
    "svd_model = load_model('/home/ramscrux7757/SPARK/AI_SCIENCE/qa-lstm-attn-best.hdf5')\n",
    "# svd_model = load_model('/home/ramscrux7757/SPARK/AI_SCIENCE/model.h5')\n",
    "#svd_model.compile(optimizer=\"adam\", loss=\"categorical_crossentropy\",metrics=[\"accuracy\"])\n",
    "loss, acc = svd_model.evaluate([Xqtest, Xatest], [Ytest], batch_size=batch_size)\n",
    "print(\"Test loss/accuracy best model = {}, {}\".format(loss,acc))"
   ]
  },
  {
   "cell_type": "code",
   "execution_count": 40,
   "metadata": {},
   "outputs": [
    {
     "data": {
      "text/plain": [
       "array([[ 0.25655362,  0.74344635],\n",
       "       [ 0.25579777,  0.7442022 ],\n",
       "       [ 0.25800636,  0.74199367],\n",
       "       ..., \n",
       "       [ 0.25846583,  0.74153417],\n",
       "       [ 0.25667426,  0.74332577],\n",
       "       [ 0.25576738,  0.74423265]], dtype=float32)"
      ]
     },
     "execution_count": 40,
     "metadata": {},
     "output_type": "execute_result"
    }
   ],
   "source": [
    "svd_model.predict([Xqtest, Xatest], batch_size=batch_size)\n",
    "# these predictions are compared against the Ytest"
   ]
  },
  {
   "cell_type": "code",
   "execution_count": 41,
   "metadata": {},
   "outputs": [
    {
     "name": "stdout",
     "output_type": "stream",
     "text": [
      "[[1 0]\n",
      " [1 0]\n",
      " [0 1]\n",
      " ..., \n",
      " [0 1]\n",
      " [0 1]\n",
      " [0 1]]\n"
     ]
    }
   ],
   "source": [
    "print(Ytest) # vectorized form of True/False (correct_ans_idx = ord(correct_ans) - ord('A'))"
   ]
  },
  {
   "cell_type": "code",
   "execution_count": 45,
   "metadata": {
    "collapsed": true
   },
   "outputs": [],
   "source": [
    "# saving the model as separate files\n",
    "from numpy import array\n",
    "from keras.models import model_from_json\n",
    "\n",
    "# convert the architecture to 'json' or 'yaml' file\n",
    "architecture = model.to_json()\n",
    "with open('/home/ramscrux7757/SPARK/AI_SCIENCE/architecture.json','wt') as json_file:\n",
    "    json_file.write(architecture)\n",
    "\n",
    "# saving the weights as *.hdf5 file\n",
    "#model.save_weights('weights.h5')\n",
    "#model.save_weights('/home/ramscrux7757/SPARK/AI_SCIENCE/weights.h5')"
   ]
  },
  {
   "cell_type": "code",
   "execution_count": null,
   "metadata": {
    "collapsed": true
   },
   "outputs": [],
   "source": [
    "# Loading the model\n",
    "from keras.models import model_from_json\n",
    "json_file = open('/home/ramscrux7757/SPARK/AI_SCIENCE/architecture.json','rt')\n",
    "architecture = json_file.read()\n",
    "json_file.close()\n",
    "# create model from architecture\n",
    "model = model_from_json(architecture)\n",
    "\n",
    "# loading weights\n",
    "model = model.load_weights('/home/ramscrux7757/SPARK/AI_SCIENCE/weights.h5')\n",
    "\n",
    "# making predictions\n",
    "yhat = model.predict(X, verbose=0)\n",
    "yhat = model.predict_classes(X)\n",
    "yhat = model.predict_proba(X)\n",
    "print(yhat)"
   ]
  },
  {
   "cell_type": "markdown",
   "metadata": {},
   "source": [
    "# On the test set"
   ]
  },
  {
   "cell_type": "code",
   "execution_count": null,
   "metadata": {
    "collapsed": true
   },
   "outputs": [],
   "source": [
    "# The next step takes the saved model (final one) and runs each question \n",
    "# in the test set and its four choices as a single batch, and predicts \n",
    "# the correct answer as the one which has the highest score. "
   ]
  },
  {
   "cell_type": "code",
   "execution_count": 91,
   "metadata": {},
   "outputs": [],
   "source": [
    "# Vectorizing the test set\n",
    "def vectorize_qapairs(qapairs, word2idx, seq_maxlen):\n",
    "    Xtq, Xta = [], []\n",
    "    for qapair in qapairs:\n",
    "        Xtq.append([word2idx[qword] for qword in qapair[0]])\n",
    "        Xta.append([word2idx[aword] for aword in qapair[1]])\n",
    "        #Y.append(np.array([1, 0]) if qapair[2] else np.array([0, 1]))\n",
    "    return (pad_sequences(Xtq, maxlen=seq_maxlen), \n",
    "            pad_sequences(Xta, maxlen=seq_maxlen))\n",
    "            #np.array(Y))\n",
    "\n",
    "# index encoded qapairs vectors\n",
    "Xtq, Xta = vectorize_qapairs(tqapairs, word2idx, seq_maxlen)\n",
    "#print(Xtq)\n",
    "#print(Xta)\n",
    "#print(Y)"
   ]
  },
  {
   "cell_type": "code",
   "execution_count": 28,
   "metadata": {},
   "outputs": [
    {
     "name": "stdout",
     "output_type": "stream",
     "text": [
      "(32528, 100)\n",
      "(32528, 100)\n"
     ]
    }
   ],
   "source": [
    "print(Xtq.shape)\n",
    "print(Xta.shape)"
   ]
  },
  {
   "cell_type": "code",
   "execution_count": null,
   "metadata": {
    "collapsed": true
   },
   "outputs": [],
   "source": [
    "#Xtq[0/1/2/3] - question no: 1\n",
    "#Xta[0] - answer 'A'\n",
    "#Xta[1] - answer 'B'\n",
    "#Xta[2] - answer 'C'\n",
    "#Xta[3] - answer 'D'\n",
    "# in the answer's vectors, if a single word is the answer, we will have one non-zero element in the vector at the end"
   ]
  },
  {
   "cell_type": "code",
   "execution_count": 52,
   "metadata": {},
   "outputs": [
    {
     "data": {
      "text/plain": [
       "array([  0,   0,   0,   0,   0,   0,   0,   0,   0,   0,   0,   0,   0,\n",
       "         0,   0,   0,   0,   0,   0,   0,   0,   0,   0,   0,   0,   0,\n",
       "         0,   0,   0,   0,   0,   0,   0,   0,   0,   0,   0,   0,   0,\n",
       "         0,   0,   0,   0,   0,   0,   0,   0,   0,   0,   0,   0,   0,\n",
       "         0,   0,   0,   0,   0,   0,   0,   0,   0,   0,   0,   0,   0,\n",
       "         0,   0,   0,   0,   0,   0,   0,   0,   0,   0,   0,   0,   0,\n",
       "         0,   0,   0,   0,   0,   0,   0,   0,   0,   0,   0,   0,   7,\n",
       "       822, 376,  70,  20, 101, 334,  37,  17,  16], dtype=int32)"
      ]
     },
     "execution_count": 52,
     "metadata": {},
     "output_type": "execute_result"
    }
   ],
   "source": [
    "Xtq[0]"
   ]
  },
  {
   "cell_type": "code",
   "execution_count": 53,
   "metadata": {},
   "outputs": [
    {
     "data": {
      "text/plain": [
       "array([   0,    0,    0,    0,    0,    0,    0,    0,    0,    0,    0,\n",
       "          0,    0,    0,    0,    0,    0,    0,    0,    0,    0,    0,\n",
       "          0,    0,    0,    0,    0,    0,    0,    0,    0,    0,    0,\n",
       "          0,    0,    0,    0,    0,    0,    0,    0,    0,    0,    0,\n",
       "          0,    0,    0,    0,    0,    0,    0,    0,    0,    0,    0,\n",
       "          0,    0,    0,    0,    0,    0,    0,    0,    0,    0,    0,\n",
       "          0,    0,    0,    0,    0,    0,    0,    0,    0,    0,    0,\n",
       "          0,    0,    0,    0,    0,    0,    0,    0,    0,    0,    0,\n",
       "          0,    0,    0,    0,    0,    0,    0,    0,    0,  334,   12,\n",
       "       1145], dtype=int32)"
      ]
     },
     "execution_count": 53,
     "metadata": {},
     "output_type": "execute_result"
    }
   ],
   "source": [
    "Xta[0]"
   ]
  },
  {
   "cell_type": "code",
   "execution_count": 66,
   "metadata": {},
   "outputs": [
    {
     "data": {
      "text/plain": [
       "array([  0,   0,   0,   0,   0,   0,   0,   0,   0,   0,   0,   0,   0,\n",
       "         0,   0,   0,   0,   0,   0,   0,   0,   0,   0,   0,   0,   0,\n",
       "         0,   0,   0,   0,   0,   0,   0,   0,   0,   0,   0,   0,   0,\n",
       "         0,   0,   0,   0,   0,   0,   0,   0,   0,   0,   0,   0,   0,\n",
       "         0,   0,   0,   0,   0,   0,   0,   0,   0,   0,   0,   0,   0,\n",
       "         0,   0,   0,   0,   0,   0,   0,   0,   0,   0,   0,   0,   0,\n",
       "         0,   0,   0,   0,   0,   0,   0,   0,   0,   0,   0,   0,   7,\n",
       "       822, 376,  70,  20, 101, 334,  37,  17,  16], dtype=int32)"
      ]
     },
     "execution_count": 66,
     "metadata": {},
     "output_type": "execute_result"
    }
   ],
   "source": [
    "Xtq[1]"
   ]
  },
  {
   "cell_type": "code",
   "execution_count": 58,
   "metadata": {},
   "outputs": [
    {
     "data": {
      "text/plain": [
       "array([   0,    0,    0,    0,    0,    0,    0,    0,    0,    0,    0,\n",
       "          0,    0,    0,    0,    0,    0,    0,    0,    0,    0,    0,\n",
       "          0,    0,    0,    0,    0,    0,    0,    0,    0,    0,    0,\n",
       "          0,    0,    0,    0,    0,    0,    0,    0,    0,    0,    0,\n",
       "          0,    0,    0,    0,    0,    0,    0,    0,    0,    0,    0,\n",
       "          0,    0,    0,    0,    0,    0,    0,    0,    0,    0,    0,\n",
       "          0,    0,    0,    0,    0,    0,    0,    0,    0,    0,    0,\n",
       "          0,    0,    0,    0,    0,    0,    0,    0,    0,    0,    0,\n",
       "          0,    0,    0,    0,    0,    0,    0,    0,    0,    0,    0,\n",
       "       1749], dtype=int32)"
      ]
     },
     "execution_count": 58,
     "metadata": {},
     "output_type": "execute_result"
    }
   ],
   "source": [
    "Xta[1]"
   ]
  },
  {
   "cell_type": "markdown",
   "metadata": {},
   "source": [
    "# The following prediction is for demonstration purpuses only\n",
    "# The accuracy is not better than random"
   ]
  },
  {
   "cell_type": "code",
   "execution_count": 90,
   "metadata": {},
   "outputs": [
    {
     "name": "stdout",
     "output_type": "stream",
     "text": [
      "Question 1:\n",
      "probability of Answers: [array([ 1.67015743], dtype=float32), array([ 1.66981757], dtype=float32), array([ 1.67062938], dtype=float32), array([ 1.67023623], dtype=float32)]\n",
      "correct_answer_predicted: C\n",
      "\n",
      "Question 2:\n",
      "probability of Answers: [array([ 1.66981757], dtype=float32), array([ 1.67062938], dtype=float32), array([ 1.67023623], dtype=float32), array([ 1.66986775], dtype=float32)]\n",
      "correct_answer_predicted: B\n",
      "\n",
      "Question 3:\n",
      "probability of Answers: [array([ 1.67062938], dtype=float32), array([ 1.67023623], dtype=float32), array([ 1.66986775], dtype=float32), array([ 1.66985476], dtype=float32)]\n",
      "correct_answer_predicted: A\n",
      "\n",
      "Question 4:\n",
      "probability of Answers: [array([ 1.67023623], dtype=float32), array([ 1.66986775], dtype=float32), array([ 1.66985476], dtype=float32), array([ 1.66988158], dtype=float32)]\n",
      "correct_answer_predicted: A\n",
      "\n",
      "Question 5:\n",
      "probability of Answers: [array([ 1.66956103], dtype=float32), array([ 1.66944647], dtype=float32), array([ 1.66940343], dtype=float32), array([ 1.66924858], dtype=float32)]\n",
      "correct_answer_predicted: A\n",
      "\n",
      "Question 6:\n",
      "probability of Answers: [array([ 1.66944647], dtype=float32), array([ 1.66940343], dtype=float32), array([ 1.66924858], dtype=float32), array([ 1.66971922], dtype=float32)]\n",
      "correct_answer_predicted: D\n",
      "\n",
      "Question 7:\n",
      "probability of Answers: [array([ 1.66940343], dtype=float32), array([ 1.66924858], dtype=float32), array([ 1.66971922], dtype=float32), array([ 1.67046368], dtype=float32)]\n",
      "correct_answer_predicted: D\n",
      "\n",
      "Question 8:\n",
      "probability of Answers: [array([ 1.66924858], dtype=float32), array([ 1.66971922], dtype=float32), array([ 1.67046368], dtype=float32), array([ 1.66952753], dtype=float32)]\n",
      "correct_answer_predicted: C\n",
      "\n",
      "Question 9:\n",
      "probability of Answers: [array([ 1.66995776], dtype=float32), array([ 1.67095029], dtype=float32), array([ 1.6699127], dtype=float32), array([ 1.67083549], dtype=float32)]\n",
      "correct_answer_predicted: B\n",
      "\n",
      "Question 10:\n",
      "probability of Answers: [array([ 1.67095029], dtype=float32), array([ 1.6699127], dtype=float32), array([ 1.67083549], dtype=float32), array([ 1.66951609], dtype=float32)]\n",
      "correct_answer_predicted: A\n",
      "\n"
     ]
    }
   ],
   "source": [
    "# a question and the corresponding answer set is supplied \n",
    "#for i in range(Xtq.shape[0]):\n",
    "\n",
    "for i in range(10):\n",
    "    x1 = Xtq[i]\n",
    "    xq1 = np.array([x1]) # transposing the vector\n",
    "    probs_list = []\n",
    "    for j in range(i, i+4): \n",
    "        x2 = Xta[j]\n",
    "        xa1 = np.array([x2])\n",
    "\n",
    "        Y = svd_model.predict([xq1,xa1])\n",
    "\n",
    "# consider the difference b/w the positive and negative o/p as the score followed by normalization\n",
    "# gives the probabilities of all \n",
    "        probs = np.exp(1.0 - (Y[:, 1] - Y[:, 0]))\n",
    "        probs_list.append(probs)\n",
    "\n",
    "# the following should covert the numeric into the correct character\n",
    "    correct_answer = chr(ord('A') + np.argmax(probs_list))\n",
    "    \n",
    "#    print(Y.shape)\n",
    "#        print(Y)\n",
    "#print('---------------')\n",
    "#print(Y[:,0])\n",
    "#print('---------------')\n",
    "#print(Y[:,1])\n",
    "#print('----------------')\n",
    "#print(len(probs))\n",
    "#        print(probs)\n",
    "#print('----------------')\n",
    "#    print(np.argmax(probs))\n",
    "#print('----------------')\n",
    "    print('Question {}:'.format(i+1))\n",
    "    print('probability of Answers: {}'.format(probs_list))\n",
    "    print('correct_answer_predicted: {}'.format(correct_answer))\n",
    "    print"
   ]
  }
 ],
 "metadata": {
  "kernelspec": {
   "display_name": "Python [default]",
   "language": "python",
   "name": "python2"
  },
  "language_info": {
   "codemirror_mode": {
    "name": "ipython",
    "version": 2
   },
   "file_extension": ".py",
   "mimetype": "text/x-python",
   "name": "python",
   "nbconvert_exporter": "python",
   "pygments_lexer": "ipython2",
   "version": "2.7.14"
  }
 },
 "nbformat": 4,
 "nbformat_minor": 2
}
