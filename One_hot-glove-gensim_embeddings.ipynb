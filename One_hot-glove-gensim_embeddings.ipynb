{
 "cells": [
  {
   "cell_type": "markdown",
   "metadata": {
    "collapsed": true
   },
   "source": [
    "# Demonstration of usage of word embeddings (derived from keras one-hot, glove and gensim) in keras models"
   ]
  },
  {
   "cell_type": "code",
   "execution_count": 4,
   "metadata": {
    "collapsed": true
   },
   "outputs": [],
   "source": [
    "from gensim.models import Word2Vec"
   ]
  },
  {
   "cell_type": "code",
   "execution_count": 6,
   "metadata": {
    "collapsed": true
   },
   "outputs": [],
   "source": [
    "sentence = ['this is the first sentence for word2vec','this is the second sentence','yet another sentence','one more sentence', \n",
    "            'and the final sentence']"
   ]
  },
  {
   "cell_type": "code",
   "execution_count": 8,
   "metadata": {},
   "outputs": [
    {
     "name": "stdout",
     "output_type": "stream",
     "text": [
      "[['this', 'is', 'the', 'first', 'sentence', 'for', 'word2vec'], ['this', 'is', 'the', 'second', 'sentence'], ['yet', 'another', 'sentence'], ['one', 'more', 'sentence'], ['and', 'the', 'final', 'sentence']]\n"
     ]
    }
   ],
   "source": [
    "# Define the training data\n",
    "tokens = [i.split() for i in sentence]\n",
    "print(tokens)"
   ]
  },
  {
   "cell_type": "code",
   "execution_count": 10,
   "metadata": {},
   "outputs": [
    {
     "name": "stdout",
     "output_type": "stream",
     "text": [
      "['this', 'is', 'the', 'first', 'sentence', 'for', 'word2vec', 'this', 'is', 'the', 'second', 'sentence', 'yet', 'another', 'sentence', 'one', 'more', 'sentence', 'and', 'the', 'final', 'sentence']\n"
     ]
    }
   ],
   "source": [
    "# reducing the lists of lists into a flat list\n",
    "from functools import reduce\n",
    "flat_list = reduce(lambda x,y: x+y,tokens)\n",
    "print(flat_list)"
   ]
  },
  {
   "cell_type": "code",
   "execution_count": 11,
   "metadata": {},
   "outputs": [
    {
     "name": "stdout",
     "output_type": "stream",
     "text": [
      "Word2Vec(vocab=14, size=100, alpha=0.025)\n",
      "['and', 'word2vec', 'for', 'sentence', 'this', 'is', 'one', 'second', 'another', 'the', 'first', 'yet', 'final', 'more']\n",
      "[  1.09108200e-03  -1.50774524e-03  -3.20697599e-03  -9.94841801e-04\n",
      "   3.15078214e-04   4.37214086e-03  -3.69665888e-03  -3.33983405e-03\n",
      "  -4.54258965e-03   9.99633805e-04  -4.23612585e-03  -3.83223081e-03\n",
      "   4.32860339e-03  -3.25149111e-03   2.95695267e-03  -3.71881900e-03\n",
      "  -1.00519822e-03   4.84643737e-03  -3.53238801e-03   1.22420708e-04\n",
      "  -4.58742678e-03   3.71732470e-03  -4.15829709e-03  -3.93305486e-03\n",
      "  -8.70488118e-04  -4.59041959e-03   3.76840495e-03  -3.98694444e-03\n",
      "   1.56842021e-03   4.36723279e-03   1.75691827e-03   1.42543553e-03\n",
      "  -3.02267703e-03   1.56308757e-03   1.13664242e-03  -1.06631417e-03\n",
      "   4.95949062e-03   1.51077483e-03  -3.55202728e-03  -1.73709460e-03\n",
      "  -4.47266269e-03  -3.67703475e-03   3.55967181e-03  -7.38290721e-04\n",
      "   7.48101273e-04   2.56760861e-03   8.07312434e-04  -2.70612515e-03\n",
      "  -4.23209416e-03   3.43392487e-03   9.29186004e-04   4.30594292e-03\n",
      "  -1.68683392e-03   2.32448475e-03  -3.98656679e-03   4.22142725e-03\n",
      "   3.05290613e-03   2.75243446e-03   4.32301033e-03  -3.94099904e-03\n",
      "  -2.20075296e-03  -2.56885798e-03  -4.12407611e-03  -1.56984746e-03\n",
      "  -3.00061726e-03  -3.19348928e-03   2.11892696e-03  -4.91847843e-03\n",
      "  -2.95917527e-03  -2.72088544e-03  -3.68361338e-03   4.82129958e-03\n",
      "  -3.23147955e-03   7.92523380e-04  -1.13938085e-03   4.13301494e-03\n",
      "  -2.28527421e-03   1.18826900e-03   4.92700469e-03   1.03034917e-03\n",
      "  -2.92705768e-03   2.56462279e-03   3.56607517e-04   3.56026203e-03\n",
      "   7.45267535e-05  -4.00806777e-04  -3.83335561e-03  -1.51982182e-03\n",
      "  -1.27809716e-03  -3.43685434e-03  -3.12654581e-03   2.05130153e-03\n",
      "  -4.02728189e-03  -3.57793015e-03  -1.95463211e-03  -1.00961013e-03\n",
      "   2.47778278e-03  -1.26721070e-03  -3.62945604e-03  -1.76866830e-03]\n"
     ]
    }
   ],
   "source": [
    "# train the model\n",
    "# duplicate words will be taken care automatically\n",
    "# by default, every single word will be represented by a 100 dimensional vector in the embedded space\n",
    "model = Word2Vec(tokens, min_count=1)\n",
    "# summarize the loaded model\n",
    "print(model)\n",
    "# summarize vocabulary\n",
    "words = list(model.wv.vocab)\n",
    "print(words)\n",
    "# access vector for one word\n",
    "print(model['sentence'])\n",
    "# save model\n",
    "#model.save('model.bin')\n",
    "# load model\n",
    "#new_model = Word2Vec.load('model.bin')\n",
    "#print(new_model)"
   ]
  },
  {
   "cell_type": "code",
   "execution_count": 16,
   "metadata": {},
   "outputs": [
    {
     "data": {
      "image/png": "[encoded data removed]",
      "text/plain": [
       "<matplotlib.figure.Figure at 0x7f6de16aa350>"
      ]
     },
     "metadata": {},
     "output_type": "display_data"
    }
   ],
   "source": [
    "# plot word vectors using PCA\n",
    "from matplotlib import pyplot\n",
    "from sklearn.decomposition import PCA\n",
    "pca = PCA(n_components = 2)\n",
    "X = model[model.wv.vocab]\n",
    "result = pca.fit_transform(X)\n",
    "# create a scatter plot\n",
    "pyplot.scatter(result[:,0],result[:,1])\n",
    "words = list(model.wv.vocab)\n",
    "for i, word in enumerate(words):\n",
    "    pyplot.annotate(word, xy=(result[i,0], result[i,1]))\n",
    "pyplot.show()"
   ]
  },
  {
   "cell_type": "markdown",
   "metadata": {},
   "source": [
    "# Sentiment analysis"
   ]
  },
  {
   "cell_type": "code",
   "execution_count": 5,
   "metadata": {},
   "outputs": [],
   "source": [
    "from gensim.models import Word2Vec\n",
    "from keras.preprocessing.text import one_hot\n",
    "from keras.preprocessing.sequence import pad_sequences\n",
    "from keras.models import Sequential\n",
    "from keras.layers import Dense, Flatten\n",
    "from keras.layers.embeddings import Embedding\n",
    "from keras.preprocessing.text import Tokenizer\n",
    "import numpy as np"
   ]
  },
  {
   "cell_type": "code",
   "execution_count": 72,
   "metadata": {
    "collapsed": true
   },
   "outputs": [],
   "source": [
    "docs1 = ['Well done!; Good work; Great effort; nice work; Excellent; Weak; Poor effort!; not good; poor work; Could have done better.']"
   ]
  },
  {
   "cell_type": "code",
   "execution_count": 73,
   "metadata": {},
   "outputs": [
    {
     "name": "stdout",
     "output_type": "stream",
     "text": [
      "[['Well done!', ' Good work', ' Great effort', ' nice work', ' Excellent', ' Weak', ' Poor effort!', ' not good', ' poor work', ' Could have done better.']]\n"
     ]
    }
   ],
   "source": [
    "docs = [i.split(';') for i in docs1]\n",
    "print(docs)"
   ]
  },
  {
   "cell_type": "code",
   "execution_count": 74,
   "metadata": {},
   "outputs": [
    {
     "name": "stdout",
     "output_type": "stream",
     "text": [
      "['Well done!', ' Good work', ' Great effort', ' nice work', ' Excellent', ' Weak', ' Poor effort!', ' not good', ' poor work', ' Could have done better.']\n"
     ]
    }
   ],
   "source": [
    "from functools import reduce\n",
    "docs_flat = reduce(lambda x,y: x+y,docs)\n",
    "print(docs_flat)"
   ]
  },
  {
   "cell_type": "code",
   "execution_count": 6,
   "metadata": {},
   "outputs": [
    {
     "name": "stdout",
     "output_type": "stream",
     "text": [
      "[1 1 1 1 1 0 0 0 0 0]\n"
     ]
    }
   ],
   "source": [
    "# Labelling/scoring the sentiment\n",
    "labels = np.array([1,1,1,1,1,0,0,0,0,0])\n",
    "print(labels)\n",
    "# In reality, this kind of labelling comes either from supervised learning/WordClouds/LDA/LSA"
   ]
  },
  {
   "cell_type": "markdown",
   "metadata": {},
   "source": [
    "# Vectorizing using keras one-hot"
   ]
  },
  {
   "cell_type": "code",
   "execution_count": 19,
   "metadata": {},
   "outputs": [
    {
     "name": "stdout",
     "output_type": "stream",
     "text": [
      "[[25, 48], [18, 22], [39, 3], [17, 22], [28], [37], [3, 3], [40, 34], [3, 22], [40, 19, 48, 4]]\n"
     ]
    }
   ],
   "source": [
    "# integer encoding the documents using keras one_hot encoding \n",
    "# This is not the same hot_encoding rather indexing based on the location\n",
    "vocab_size =50\n",
    "encoded_docs = [one_hot(d,vocab_size) for d in docs_flat]\n",
    "print(encoded_docs)"
   ]
  },
  {
   "cell_type": "code",
   "execution_count": null,
   "metadata": {
    "collapsed": true
   },
   "outputs": [],
   "source": [
    "# the sequences have different lengths and the integers indicates the location of that specific word in the vocabulary space"
   ]
  },
  {
   "cell_type": "code",
   "execution_count": 20,
   "metadata": {},
   "outputs": [
    {
     "name": "stdout",
     "output_type": "stream",
     "text": [
      "[[25 48  0  0]\n",
      " [18 22  0  0]\n",
      " [39  3  0  0]\n",
      " [17 22  0  0]\n",
      " [28  0  0  0]\n",
      " [37  0  0  0]\n",
      " [ 3  3  0  0]\n",
      " [40 34  0  0]\n",
      " [ 3 22  0  0]\n",
      " [40 19 48  4]]\n"
     ]
    }
   ],
   "source": [
    "# pad documents to a max length of 4 words\n",
    "max_length = 4\n",
    "padded_docs = pad_sequences(encoded_docs, maxlen=max_length, padding='post')\n",
    "print(padded_docs)"
   ]
  },
  {
   "cell_type": "code",
   "execution_count": 21,
   "metadata": {},
   "outputs": [
    {
     "name": "stdout",
     "output_type": "stream",
     "text": [
      "_________________________________________________________________\n",
      "Layer (type)                 Output Shape              Param #   \n",
      "=================================================================\n",
      "embedding_2 (Embedding)      (None, 4, 32)             1600      \n",
      "_________________________________________________________________\n",
      "flatten_2 (Flatten)          (None, 128)               0         \n",
      "_________________________________________________________________\n",
      "dense_2 (Dense)              (None, 1)                 129       \n",
      "=================================================================\n",
      "Total params: 1,729\n",
      "Trainable params: 1,729\n",
      "Non-trainable params: 0\n",
      "_________________________________________________________________\n"
     ]
    }
   ],
   "source": [
    "# modeling\n",
    "model = Sequential()\n",
    "model.add(Embedding(vocab_size, 32, input_length=max_length))\n",
    "model.add(Flatten())\n",
    "model.add(Dense(1, activation='sigmoid'))\n",
    "model.compile(optimizer='adam',loss='binary_crossentropy',metrics=['acc'])\n",
    "model.summary()"
   ]
  },
  {
   "cell_type": "code",
   "execution_count": null,
   "metadata": {
    "collapsed": true
   },
   "outputs": [],
   "source": [
    "# Here the output of the embedding layer is 4x8 matrix (4=input_length, 8-output of the embedded vector)"
   ]
  },
  {
   "cell_type": "code",
   "execution_count": 22,
   "metadata": {},
   "outputs": [
    {
     "name": "stdout",
     "output_type": "stream",
     "text": [
      "Accuracy: 89.9999976158\n"
     ]
    }
   ],
   "source": [
    "# train the model\n",
    "model.fit(padded_docs, labels, epochs=50, verbose=0) # padded_docs - one-hot encoded/indexed\n",
    "#evaluate the model\n",
    "loss,accuracy = model.evaluate(padded_docs, labels,verbose=0)\n",
    "print('Accuracy: {}'.format(accuracy*100))"
   ]
  },
  {
   "cell_type": "markdown",
   "metadata": {
    "collapsed": true
   },
   "source": [
    "# vectorization using Tokenizer"
   ]
  },
  {
   "cell_type": "code",
   "execution_count": 16,
   "metadata": {},
   "outputs": [
    {
     "name": "stdout",
     "output_type": "stream",
     "text": [
      "['Well done!', ' Good work', ' Great effort', ' nice work', ' Excellent', ' Weak', ' Poor effort!', ' not goot', ' poor work', ' Could have done better.']\n"
     ]
    }
   ],
   "source": [
    "print(docs_flat)"
   ]
  },
  {
   "cell_type": "code",
   "execution_count": 31,
   "metadata": {},
   "outputs": [
    {
     "name": "stdout",
     "output_type": "stream",
     "text": [
      "{'poor': 4, 'great': 7, 'good': 6, 'weak': 10, 'could': 13, 'work': 1, 'well': 5, 'better': 15, 'goot': 12, 'done': 2, 'have': 14, 'excellent': 9, 'not': 11, 'effort': 3, 'nice': 8}\n",
      "16\n",
      "[[5, 2], [6, 1], [7, 3], [8, 1], [9], [10], [4, 3], [11, 12], [4, 1], [13, 14, 2, 15]]\n",
      "[[ 5  2  0  0]\n",
      " [ 6  1  0  0]\n",
      " [ 7  3  0  0]\n",
      " [ 8  1  0  0]\n",
      " [ 9  0  0  0]\n",
      " [10  0  0  0]\n",
      " [ 4  3  0  0]\n",
      " [11 12  0  0]\n",
      " [ 4  1  0  0]\n",
      " [13 14  2 15]]\n"
     ]
    }
   ],
   "source": [
    "# prepare tokenizer - unlike in keras one-hot, here we are not predefining the vocab_size rather getting it from the \n",
    "# vocabulary itself\n",
    "t = Tokenizer()\n",
    "t.fit_on_texts(docs_flat)\n",
    "# creates the word_to_index dictionary \n",
    "vocab_size2 = len(t.word_index) + 1\n",
    "print(t.word_index)\n",
    "print(vocab_size2)\n",
    "# integer encode the documents\n",
    "# creates the integer vectors based on the words in the sentences\n",
    "encoded_docs2 = t.texts_to_sequences(docs_flat)\n",
    "print(encoded_docs2)\n",
    "# pad documents to a max length of 4 words\n",
    "max_length = 4\n",
    "padded_docs = pad_sequences(encoded_docs2, maxlen=max_length, padding = 'post')\n",
    "print(padded_docs)"
   ]
  },
  {
   "cell_type": "markdown",
   "metadata": {},
   "source": [
    "# using pre-trained Glove embedding"
   ]
  },
  {
   "cell_type": "code",
   "execution_count": 23,
   "metadata": {},
   "outputs": [
    {
     "name": "stdout",
     "output_type": "stream",
     "text": [
      "Loaded 400000 word vectors\n"
     ]
    }
   ],
   "source": [
    "# load the whole embedding into memory\n",
    "\n",
    "embeddings_index = dict()\n",
    "with open('/home/ramscrux7757/SPARK/glove/glove.6B.100d.txt') as f:\n",
    "    for line in f:\n",
    "        values = line.split()\n",
    "        word = values[0]\n",
    "        coefs = np.asarray(values[1:], dtype='float32')\n",
    "        embeddings_index[word] = coefs\n",
    "        \n",
    "print('Loaded {} word vectors'.format(len(embeddings_index)))"
   ]
  },
  {
   "cell_type": "code",
   "execution_count": 27,
   "metadata": {},
   "outputs": [
    {
     "data": {
      "text/plain": [
       "array([-0.013786  ,  0.38216001,  0.53236002,  0.15261   , -0.29694   ,\n",
       "       -0.20558   , -0.41846001, -0.58437002, -0.77354997, -0.87866002,\n",
       "       -0.37858   , -0.18516   , -0.12800001, -0.20584001, -0.22925   ,\n",
       "       -0.42598999,  0.3725    ,  0.26076999, -1.07019997,  0.62915999,\n",
       "       -0.091469  ,  0.70348001, -0.4973    , -0.77691001,  0.66044998,\n",
       "        0.09465   , -0.44893   ,  0.018917  ,  0.33146   , -0.35021999,\n",
       "       -0.35789001,  0.030313  ,  0.22253001, -0.23236001, -0.19719   ,\n",
       "       -0.0053125 , -0.25848001,  0.58081001, -0.10705   , -0.17845   ,\n",
       "       -0.16205999,  0.087086  ,  0.63028997, -0.76648998,  0.51618999,\n",
       "        0.14072999,  1.01900005, -0.43136001,  0.46138   , -0.43584999,\n",
       "       -0.47567999,  0.19226   ,  0.36065   ,  0.78987002,  0.088945  ,\n",
       "       -2.78139997, -0.15366   ,  0.01015   ,  1.17980003,  0.15167999,\n",
       "       -0.050112  ,  1.26259995, -0.77526999,  0.36030999,  0.95761001,\n",
       "       -0.11385   ,  0.28035   , -0.02591   ,  0.31246001, -0.15424   ,\n",
       "        0.37779999, -0.13598999,  0.29460001, -0.31579   ,  0.42943001,\n",
       "        0.086969  ,  0.019169  , -0.27241999, -0.31696001,  0.37327   ,\n",
       "        0.61997002,  0.13889   ,  0.17188001,  0.30362999, -1.27760005,\n",
       "        0.044423  , -0.52736002, -0.88536   , -0.19428   , -0.61947   ,\n",
       "       -0.10146   , -0.26301   , -0.061707  ,  0.36627001, -0.95222998,\n",
       "       -0.39346001, -0.69182998, -1.04260004,  0.28854999,  0.63055998], dtype=float32)"
      ]
     },
     "execution_count": 27,
     "metadata": {},
     "output_type": "execute_result"
    }
   ],
   "source": [
    "embeddings_index['great']"
   ]
  },
  {
   "cell_type": "code",
   "execution_count": 42,
   "metadata": {},
   "outputs": [
    {
     "name": "stdout",
     "output_type": "stream",
     "text": [
      "[[ 0.  0.  0. ...,  0.  0.  0.]\n",
      " [ 0.  0.  0. ...,  0.  0.  0.]\n",
      " [ 0.  0.  0. ...,  0.  0.  0.]\n",
      " ..., \n",
      " [ 0.  0.  0. ...,  0.  0.  0.]\n",
      " [ 0.  0.  0. ...,  0.  0.  0.]\n",
      " [ 0.  0.  0. ...,  0.  0.  0.]]\n",
      "('poor', 4)\n",
      "('great', 7)\n",
      "('good', 6)\n",
      "('weak', 10)\n",
      "('could', 13)\n",
      "('work', 1)\n",
      "('well', 5)\n",
      "('better', 15)\n",
      "('goot', 12)\n",
      "('done', 2)\n",
      "('have', 14)\n",
      "('excellent', 9)\n",
      "('not', 11)\n",
      "('effort', 3)\n",
      "('nice', 8)\n",
      "(16, 100)\n",
      "[[ 0.          0.          0.         ...,  0.          0.          0.        ]\n",
      " [-0.11619     0.45447001 -0.69216001 ..., -0.54737002  0.48822001  0.32246   ]\n",
      " [-0.2978      0.31147    -0.14937    ..., -0.22709    -0.029261    0.4585    ]\n",
      " ..., \n",
      " [ 0.05869     0.40272999  0.38633999 ..., -0.35973999  0.43718001  0.10121   ]\n",
      " [ 0.15711001  0.65605998  0.0021149  ..., -0.60614997  0.71004999\n",
      "   0.41468999]\n",
      " [-0.047543    0.51914001  0.34283999 ..., -0.26859     0.48664999  0.55609   ]]\n"
     ]
    }
   ],
   "source": [
    "# create a weeight matrix for words in training docs\n",
    "# the embedding matrix is a (doc_size x embedded space) dimension matrix\n",
    "# every doc is a vector of 100 elements (in this case)\n",
    "embedding_matrix = np.zeros((vocab_size2, 100))\n",
    "print(embedding_matrix)\n",
    "for word, i in t.word_index.items():\n",
    "    print(word,i)\n",
    "    embedding_vector = embeddings_index.get(word)\n",
    "    if  embedding_vector is not None:\n",
    "        embedding_matrix[i] = embedding_vector\n",
    "        \n",
    "print(embedding_matrix.shape)\n",
    "print(embedding_matrix)"
   ]
  },
  {
   "cell_type": "code",
   "execution_count": 41,
   "metadata": {},
   "outputs": [
    {
     "name": "stdout",
     "output_type": "stream",
     "text": [
      "_________________________________________________________________\n",
      "Layer (type)                 Output Shape              Param #   \n",
      "=================================================================\n",
      "embedding_5 (Embedding)      (None, 4, 100)            1600      \n",
      "_________________________________________________________________\n",
      "flatten_3 (Flatten)          (None, 400)               0         \n",
      "_________________________________________________________________\n",
      "dense_3 (Dense)              (None, 1)                 401       \n",
      "=================================================================\n",
      "Total params: 2,001\n",
      "Trainable params: 401\n",
      "Non-trainable params: 1,600\n",
      "_________________________________________________________________\n",
      "Accuracy 100.0:\n"
     ]
    }
   ],
   "source": [
    "# define the model\n",
    "model = Sequential()\n",
    "e = Embedding(vocab_size2, 100, weights=[embedding_matrix], input_length=4, trainable=False)\n",
    "model.add(e)\n",
    "model.add(Flatten())\n",
    "model.add(Dense(1,activation='sigmoid'))\n",
    "#compile the model\n",
    "model.compile(optimizer='adam',loss='binary_crossentropy',metrics=['acc'])\n",
    "# summarize the model\n",
    "model.summary()\n",
    "# fit  the model\n",
    "model.fit(padded_docs, labels, epochs=50, verbose=0)\n",
    "# evaluate the model\n",
    "loss,accuracy = model.evaluate(padded_docs, labels, verbose=0)\n",
    "print('Accuracy {}:'.format(accuracy*100))"
   ]
  },
  {
   "cell_type": "markdown",
   "metadata": {},
   "source": [
    "# generating word-embeddings using Gensim"
   ]
  },
  {
   "cell_type": "code",
   "execution_count": 82,
   "metadata": {},
   "outputs": [
    {
     "name": "stdout",
     "output_type": "stream",
     "text": [
      "{'poor': 4, 'great': 7, 'good': 6, 'weak': 10, 'could': 13, 'work': 1, 'well': 5, 'better': 15, 'goot': 12, 'done': 2, 'have': 14, 'excellent': 9, 'not': 11, 'effort': 3, 'nice': 8}\n"
     ]
    }
   ],
   "source": [
    "# following the vectorization from Tokenizer\n",
    "print(t.word_index)"
   ]
  },
  {
   "cell_type": "code",
   "execution_count": 86,
   "metadata": {},
   "outputs": [
    {
     "name": "stdout",
     "output_type": "stream",
     "text": [
      "['poor', 'great', 'good', 'weak', 'could', 'work', 'well', 'better', 'goot', 'done', 'have', 'excellent', 'not', 'effort', 'nice']\n",
      "15\n"
     ]
    }
   ],
   "source": [
    "docs_lst2 = t.word_index.keys()\n",
    "print(docs_lst2)\n",
    "print(len(docs_lst2))"
   ]
  },
  {
   "cell_type": "code",
   "execution_count": 87,
   "metadata": {},
   "outputs": [
    {
     "name": "stdout",
     "output_type": "stream",
     "text": [
      "Word2Vec(vocab=15, size=100, alpha=0.025)\n"
     ]
    }
   ],
   "source": [
    "# Generating embedding model using gensim\n",
    "\n",
    "# train model \n",
    "ebd_model = Word2Vec([docs_lst2], min_count = 1)\n",
    "# summrize the moaded model\n",
    "print(ebd_model)"
   ]
  },
  {
   "cell_type": "code",
   "execution_count": 88,
   "metadata": {},
   "outputs": [
    {
     "name": "stdout",
     "output_type": "stream",
     "text": [
      "[ -4.81037796e-03   2.09023221e-03   2.35071778e-03   3.80843412e-04\n",
      "   3.75166885e-03   4.53934772e-03   4.93540382e-03  -9.96194780e-04\n",
      "   1.39838620e-03  -2.16753615e-04  -5.28400531e-04   2.95642950e-03\n",
      "  -2.63809762e-03   2.56817159e-03  -3.79028730e-03  -4.49219486e-03\n",
      "   2.77458853e-03   3.47033492e-03  -1.86004990e-03  -8.05604504e-04\n",
      "   1.81936088e-03  -3.94339254e-03  -1.48025167e-03  -4.25600359e-04\n",
      "  -4.63156641e-04  -2.23293738e-03   4.10455698e-03   2.98301084e-03\n",
      "   4.90180869e-03   3.21363244e-04  -3.66398925e-03  -2.08852789e-03\n",
      "   3.35919298e-03  -4.69565894e-05  -3.90784303e-03  -1.36258849e-03\n",
      "  -2.37535173e-03   3.61863407e-03   1.23370707e-03   2.48365849e-03\n",
      "   1.72860827e-03  -4.00261348e-03   2.78630963e-04   2.31878436e-03\n",
      "  -4.96223290e-03  -2.78676418e-03  -1.46768332e-04   3.92311765e-03\n",
      "   1.10038812e-03  -3.97884799e-03   7.20909622e-04  -2.49280711e-04\n",
      "   1.52486830e-03   6.63264014e-04  -4.83806152e-03   4.91132913e-03\n",
      "   2.53371196e-03  -2.23401678e-03  -1.34384245e-04  -2.34644092e-03\n",
      "   2.87103234e-03  -2.76275282e-03  -8.80814914e-04  -4.16154740e-03\n",
      "   2.89162109e-03   1.05749990e-03  -4.65451553e-03  -1.40682780e-04\n",
      "   8.86975264e-04   2.26964662e-03   3.45068844e-03  -2.66028964e-03\n",
      "   1.66836416e-03   4.93951282e-03  -2.37547513e-03  -1.46794261e-03\n",
      "   1.89330324e-03  -3.03404313e-03   2.78600166e-03  -1.67390204e-03\n",
      "  -3.41392960e-03  -4.75505693e-03   7.87753728e-04  -1.38122006e-03\n",
      "   1.58585713e-03  -2.76982994e-03   4.18053335e-03  -4.38915240e-03\n",
      "  -3.48702283e-03  -5.84913243e-04   3.18408641e-03  -3.69918300e-04\n",
      "  -4.87939804e-04  -3.61927180e-03   1.37804847e-04   3.84360412e-03\n",
      "  -1.96577562e-03   3.84394708e-03   1.44666876e-03   2.23670457e-03]\n"
     ]
    }
   ],
   "source": [
    "print(ebd_model['done'])"
   ]
  },
  {
   "cell_type": "code",
   "execution_count": 90,
   "metadata": {},
   "outputs": [
    {
     "data": {
      "text/plain": [
       "[('poor', 4),\n",
       " ('great', 7),\n",
       " ('good', 6),\n",
       " ('weak', 10),\n",
       " ('could', 13),\n",
       " ('work', 1),\n",
       " ('well', 5),\n",
       " ('better', 15),\n",
       " ('goot', 12),\n",
       " ('done', 2),\n",
       " ('have', 14),\n",
       " ('excellent', 9),\n",
       " ('not', 11),\n",
       " ('effort', 3),\n",
       " ('nice', 8)]"
      ]
     },
     "execution_count": 90,
     "metadata": {},
     "output_type": "execute_result"
    }
   ],
   "source": [
    "t.word_index.items()"
   ]
  },
  {
   "cell_type": "code",
   "execution_count": 91,
   "metadata": {},
   "outputs": [
    {
     "name": "stdout",
     "output_type": "stream",
     "text": [
      "(16, 100)\n",
      "[[  0.00000000e+00   0.00000000e+00   0.00000000e+00 ...,   0.00000000e+00\n",
      "    0.00000000e+00   0.00000000e+00]\n",
      " [ -3.16592705e-05   7.61602831e-04   3.24354065e-03 ...,  -2.95457011e-03\n",
      "    1.06048153e-03   2.95024808e-03]\n",
      " [ -4.81037796e-03   2.09023221e-03   2.35071778e-03 ...,   3.84394708e-03\n",
      "    1.44666876e-03   2.23670457e-03]\n",
      " ..., \n",
      " [  2.36723083e-03   4.02091508e-04   9.88070969e-04 ...,  -1.36979274e-03\n",
      "   -1.13945687e-03   1.90868753e-03]\n",
      " [ -5.15873719e-04  -3.15627130e-03   2.49778945e-03 ...,  -3.30333016e-03\n",
      "   -1.95337366e-03  -3.08220508e-03]\n",
      " [  3.36224190e-03  -2.24425760e-03   2.30989812e-04 ...,  -1.01240037e-03\n",
      "    6.21207757e-04  -2.73332582e-03]]\n"
     ]
    }
   ],
   "source": [
    "# create a weeight matrix for words in training docs\n",
    "vocab_size3 = len(set(docs_lst2)) + 1\n",
    "embedding_matrix2 = np.zeros((vocab_size3, 100))\n",
    "\n",
    "for word, i in t.word_index.items():\n",
    "    embedding_vector = ebd_model[word]\n",
    "    #embedding_vector = embeddings_index.get(word)\n",
    "    if  embedding_vector is not None:\n",
    "        embedding_matrix2[i] = embedding_vector\n",
    "        \n",
    "print(embedding_matrix2.shape)\n",
    "print(embedding_matrix2)"
   ]
  },
  {
   "cell_type": "code",
   "execution_count": 92,
   "metadata": {},
   "outputs": [
    {
     "name": "stdout",
     "output_type": "stream",
     "text": [
      "_________________________________________________________________\n",
      "Layer (type)                 Output Shape              Param #   \n",
      "=================================================================\n",
      "embedding_6 (Embedding)      (None, 4, 100)            1600      \n",
      "_________________________________________________________________\n",
      "flatten_4 (Flatten)          (None, 400)               0         \n",
      "_________________________________________________________________\n",
      "dense_4 (Dense)              (None, 1)                 401       \n",
      "=================================================================\n",
      "Total params: 2,001\n",
      "Trainable params: 401\n",
      "Non-trainable params: 1,600\n",
      "_________________________________________________________________\n",
      "Accuracy 100.0:\n"
     ]
    }
   ],
   "source": [
    "# define the model\n",
    "model = Sequential()\n",
    "e2 = Embedding(vocab_size3, 100, weights=[embedding_matrix], input_length=4, trainable=False)\n",
    "model.add(e2)\n",
    "model.add(Flatten())\n",
    "model.add(Dense(1,activation='sigmoid'))\n",
    "#compile the model\n",
    "model.compile(optimizer='adam',loss='binary_crossentropy',metrics=['acc'])\n",
    "# summarize the model\n",
    "model.summary()\n",
    "# fit  the model\n",
    "model.fit(padded_docs, labels, epochs=50, verbose=0)\n",
    "# evaluate the model\n",
    "loss,accuracy = model.evaluate(padded_docs, labels, verbose=0)\n",
    "print('Accuracy {}:'.format(accuracy*100))"
   ]
  }
 ],
 "metadata": {
  "kernelspec": {
   "display_name": "Python [default]",
   "language": "python",
   "name": "python2"
  },
  "language_info": {
   "codemirror_mode": {
    "name": "ipython",
    "version": 2
   },
   "file_extension": ".py",
   "mimetype": "text/x-python",
   "name": "python",
   "nbconvert_exporter": "python",
   "pygments_lexer": "ipython2",
   "version": "2.7.14"
  }
 },
 "nbformat": 4,
 "nbformat_minor": 2
}
