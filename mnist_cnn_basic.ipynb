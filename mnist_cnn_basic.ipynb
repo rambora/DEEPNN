{
 "cells": [
  {
   "cell_type": "markdown",
   "metadata": {},
   "source": [
    "# A simple CNN on the MNIST dataset"
   ]
  },
  {
   "cell_type": "code",
   "execution_count": 22,
   "metadata": {},
   "outputs": [],
   "source": [
    "import keras\n",
    "from keras.callbacks import TensorBoard\n",
    "from keras.datasets import mnist\n",
    "from keras.models import Sequential\n",
    "from keras.layers import Dense, Dropout,Activation, Flatten\n",
    "from keras.layers import Conv2D, MaxPooling2D\n",
    "from keras.optimizers import SGD, Adam, RMSprop\n",
    "from keras.utils import np_utils"
   ]
  },
  {
   "cell_type": "code",
   "execution_count": null,
   "metadata": {},
   "outputs": [],
   "source": [
    "#tensorboard = TensorBoard(log_dir='/Users/ram/Desktop/DEEPNN/keras_basic/', histogram_freq=0,\n",
    "                          write_graph=True, write_images=False)\n",
    "\n",
    "# write_graph    :  graph of the neural network defined internally\n",
    "# write_images   :  create an image by combining the weight of neural network\n",
    "# histogram_freq :  plot the distribution of weights and biases in the network"
   ]
  },
  {
   "cell_type": "code",
   "execution_count": 2,
   "metadata": {},
   "outputs": [],
   "source": [
    "import numpy as np\n",
    "import pandas as pd\n",
    "from __future__ import print_function\n",
    "import matplotlib.pyplot as plt\n",
    "%matplotlib inline"
   ]
  },
  {
   "cell_type": "code",
   "execution_count": 75,
   "metadata": {},
   "outputs": [],
   "source": [
    "# Loading the mnist data set from keras datasets\n",
    "(x_train,y_train),(x_test,y_test) = mnist.load_data()"
   ]
  },
  {
   "cell_type": "code",
   "execution_count": 76,
   "metadata": {},
   "outputs": [
    {
     "name": "stdout",
     "output_type": "stream",
     "text": [
      "x_train shape: (60000, 28, 28)\n",
      "x_test shape: (10000, 28, 28)\n",
      "y_train shape: (60000,)\n",
      "y_test shape: (10000,)\n"
     ]
    }
   ],
   "source": [
    "print('x_train shape:', x_train.shape)\n",
    "print('x_test shape:', x_test.shape)\n",
    "print('y_train shape:', y_train.shape)\n",
    "print('y_test shape:', y_test.shape)"
   ]
  },
  {
   "cell_type": "code",
   "execution_count": null,
   "metadata": {},
   "outputs": [],
   "source": [
    "# inspecting the images\n",
    "plt.subplot(221)\n",
    "plt.imshow(x_train[0], cmap=plt.get_cmap('gray'))\n",
    "plt.subplot(222)\n",
    "plt.imshow(x_train[1], cmap=plt.get_cmap('gray'))\n",
    "plt.subplot(223)\n",
    "plt.imshow(x_train[2], cmap=plt.get_cmap('gray'))\n",
    "plt.subplot(224)\n",
    "plt.imshow(x_train[3], cmap=plt.get_cmap('gray'))"
   ]
  },
  {
   "cell_type": "code",
   "execution_count": 47,
   "metadata": {},
   "outputs": [],
   "source": [
    "seed = 101\n",
    "np.random.seed(seed)"
   ]
  },
  {
   "cell_type": "code",
   "execution_count": 77,
   "metadata": {},
   "outputs": [],
   "source": [
    "# For CNN in Keras, the data should be in \n",
    "#'[samples][width][height][channels]'\n",
    "# check in somecases, '[samples][channels][widht][height]\n",
    "# and converting the images to numpy arrays\n",
    "# since the images are symmetric, its fine not to worry height/width order, but if they are not,\n",
    "# need to be careful\n",
    "\n",
    "x_train = x_train.reshape(x_train.shape[0],x_train.shape[1], x_train.shape[2],1).astype('float32')\n",
    "x_test = x_test.reshape(x_test.shape[0],x_test.shape[1], x_test.shape[2],1).astype('float32')"
   ]
  },
  {
   "cell_type": "code",
   "execution_count": 78,
   "metadata": {},
   "outputs": [
    {
     "name": "stdout",
     "output_type": "stream",
     "text": [
      "train_dim: (60000, 28, 28, 1)\n",
      "test_dim: (10000, 28, 28, 1)\n"
     ]
    }
   ],
   "source": [
    "# normalizing the data        \n",
    "x_train /= 255\n",
    "x_test /= 255\n",
    "print('train_dim:',x_train.shape)\n",
    "print('test_dim:', x_test.shape)"
   ]
  },
  {
   "cell_type": "code",
   "execution_count": 79,
   "metadata": {},
   "outputs": [
    {
     "data": {
      "text/plain": [
       "(60000, 10)"
      ]
     },
     "execution_count": 79,
     "metadata": {},
     "output_type": "execute_result"
    }
   ],
   "source": [
    "# one-hot encode outputs \n",
    "# needs to be careful while running - need to run only one time\n",
    "classes = 10\n",
    "y_train = np_utils.to_categorical(y_train,classes)\n",
    "y_test = np_utils.to_categorical(y_test,classes)\n",
    "y_train.shape"
   ]
  },
  {
   "cell_type": "code",
   "execution_count": 80,
   "metadata": {},
   "outputs": [],
   "source": [
    "# Defining the Baseline model \n",
    "def baseline_model():\n",
    "    model = Sequential()\n",
    "    model.add(Conv2D(32,(5,5), padding='valid',input_shape=(28,28,1)))\n",
    "    model.add(Activation('relu'))\n",
    "    model.add(MaxPooling2D(pool_size=(2,2)))\n",
    "    model.add(Dropout(0.2))\n",
    "    model.add(Flatten())\n",
    "    model.add(Dense(128,activation='relu'))\n",
    "    model.add(Dense(classes,activation='softmax'))\n",
    "    model.compile(optimizer='adam',loss='categorical_crossentropy',metrics=['accuracy'])\n",
    "    return model"
   ]
  },
  {
   "cell_type": "code",
   "execution_count": 81,
   "metadata": {},
   "outputs": [
    {
     "name": "stdout",
     "output_type": "stream",
     "text": [
      "_________________________________________________________________\n",
      "Layer (type)                 Output Shape              Param #   \n",
      "=================================================================\n",
      "conv2d_24 (Conv2D)           (None, 24, 24, 32)        832       \n",
      "_________________________________________________________________\n",
      "activation_14 (Activation)   (None, 24, 24, 32)        0         \n",
      "_________________________________________________________________\n",
      "max_pooling2d_13 (MaxPooling (None, 12, 12, 32)        0         \n",
      "_________________________________________________________________\n",
      "dropout_5 (Dropout)          (None, 12, 12, 32)        0         \n",
      "_________________________________________________________________\n",
      "flatten_5 (Flatten)          (None, 4608)              0         \n",
      "_________________________________________________________________\n",
      "dense_9 (Dense)              (None, 128)               589952    \n",
      "_________________________________________________________________\n",
      "dense_10 (Dense)             (None, 10)                1290      \n",
      "=================================================================\n",
      "Total params: 592,074\n",
      "Trainable params: 592,074\n",
      "Non-trainable params: 0\n",
      "_________________________________________________________________\n"
     ]
    }
   ],
   "source": [
    "# Summarizing the model\n",
    "model = baseline_model()\n",
    "model.summary()"
   ]
  },
  {
   "cell_type": "code",
   "execution_count": 82,
   "metadata": {},
   "outputs": [
    {
     "name": "stdout",
     "output_type": "stream",
     "text": [
      "Train on 40199 samples, validate on 19801 samples\n",
      "Epoch 1/10\n",
      " - 74s - loss: 0.2626 - acc: 0.9228 - val_loss: 0.1153 - val_acc: 0.9661\n",
      "Epoch 2/10\n",
      " - 67s - loss: 0.0839 - acc: 0.9749 - val_loss: 0.0737 - val_acc: 0.9782\n",
      "Epoch 3/10\n",
      " - 66s - loss: 0.0583 - acc: 0.9818 - val_loss: 0.0630 - val_acc: 0.9810\n",
      "Epoch 4/10\n",
      " - 66s - loss: 0.0430 - acc: 0.9868 - val_loss: 0.0550 - val_acc: 0.9839\n",
      "Epoch 5/10\n",
      " - 64s - loss: 0.0345 - acc: 0.9894 - val_loss: 0.0513 - val_acc: 0.9848\n",
      "Epoch 6/10\n",
      " - 66s - loss: 0.0294 - acc: 0.9906 - val_loss: 0.0555 - val_acc: 0.9836\n",
      "Epoch 7/10\n",
      " - 69s - loss: 0.0243 - acc: 0.9921 - val_loss: 0.0521 - val_acc: 0.9850\n",
      "Epoch 8/10\n",
      " - 70s - loss: 0.0198 - acc: 0.9937 - val_loss: 0.0524 - val_acc: 0.9848\n",
      "Epoch 9/10\n",
      " - 68s - loss: 0.0183 - acc: 0.9942 - val_loss: 0.0520 - val_acc: 0.9851\n",
      "Epoch 10/10\n",
      " - 67s - loss: 0.0136 - acc: 0.9958 - val_loss: 0.0610 - val_acc: 0.9836\n"
     ]
    }
   ],
   "source": [
    "# Building the model\n",
    "epochs = 10 # only for demo purposes\n",
    "batch_size = 128\n",
    "model = baseline_model()\n",
    "history = model.fit(x_train,y_train,epochs = epochs, batch_size=batch_size, \n",
    "          validation_split=0.33, verbose=2)\n",
    "         #callbacks=[tensorboard])\n",
    "# #tensorboard --logdir=/Users/ram/Desktop/DEEPNN/keras_basic/ \n",
    "# -- to see the output on TensorBoard"
   ]
  },
  {
   "cell_type": "code",
   "execution_count": 83,
   "metadata": {},
   "outputs": [
    {
     "data": {
      "image/png": "[encoded data removed]",
      "text/plain": [
       "<matplotlib.figure.Figure at 0x182acc6978>"
      ]
     },
     "metadata": {},
     "output_type": "display_data"
    }
   ],
   "source": [
    "# Summarizing the Accuracy\n",
    "plt.plot(history.history['acc'])\n",
    "plt.plot(history.history['val_acc'])\n",
    "plt.title('model accuracy')\n",
    "plt.xlabel('epoch')\n",
    "plt.ylabel('accuracy')\n",
    "plt.legend(['train','validation'], loc='upper left')\n",
    "plt.show()"
   ]
  },
  {
   "cell_type": "code",
   "execution_count": 84,
   "metadata": {},
   "outputs": [
    {
     "data": {
      "image/png": "[encoded data removed]",
      "text/plain": [
       "<matplotlib.figure.Figure at 0x182b0baef0>"
      ]
     },
     "metadata": {},
     "output_type": "display_data"
    }
   ],
   "source": [
    "# Summarizing the loss function\n",
    "\n",
    "plt.plot(history.history['loss'])\n",
    "plt.plot(history.history['val_loss'])\n",
    "plt.title('model loss')\n",
    "plt.xlabel('epoch')\n",
    "plt.ylabel('accuracy')\n",
    "plt.legend(['train','validation'], loc='upper left')\n",
    "plt.show()"
   ]
  },
  {
   "cell_type": "code",
   "execution_count": null,
   "metadata": {},
   "outputs": [],
   "source": [
    "# Clearly a deeper network helps here"
   ]
  },
  {
   "cell_type": "code",
   "execution_count": 85,
   "metadata": {},
   "outputs": [
    {
     "name": "stdout",
     "output_type": "stream",
     "text": [
      "[0.047756526502349878, 0.9859]\n",
      "Baseline Accuracy: 0.9859\n"
     ]
    }
   ],
   "source": [
    "# Evaluate the model performance\n",
    "scores = model.evaluate(x_test,y_test,verbose=0)\n",
    "print (scores)\n",
    "print('Baseline Accuracy: {}'.format(scores[1]))"
   ]
  },
  {
   "cell_type": "code",
   "execution_count": null,
   "metadata": {},
   "outputs": [],
   "source": [
    "# Try a deeper model\n",
    "def deeper_model():\n",
    "    model2 = Sequential()\n",
    "    model2.add(Conv2D(32,(3,3), padding='valid',input_shape=(28,28,1)))\n",
    "    model2.add(Activation('relu'))\n",
    "    model2.add(Conv2D(32,(3,3)))\n",
    "    model2.add(Activation('relu'))\n",
    "    model2.add(MaxPooling2D(pool_size=(2,2)))\n",
    "    model2.add(Dropout(0.25))\n",
    "    \n",
    "    model2.add(Conv2D(64,(3,3), padding='valid')\n",
    "    model2.add(Activation('relu'))\n",
    "    model2.add(Conv2D(64,(3,3)))\n",
    "    model2.add(Activation('relu'))\n",
    "    model2.add(MaxPooling2D(pool_size=(2,2)))\n",
    "    model2.add(Dropout(0.25))\n",
    "    \n",
    "    model2.add(Flatten())\n",
    "    model2.add(Dense(512,activation='relu'))\n",
    "    model2.add(Dropout(0.25))\n",
    "    model2.add(Dense(classes,activation='softmax'))\n",
    "    model2.compile(optimizer='adam',loss='categorical_crossentropy',metrics=['accuracy'])\n",
    "    return model2"
   ]
  }
 ],
 "metadata": {
  "kernelspec": {
   "display_name": "Python 3",
   "language": "python",
   "name": "python3"
  },
  "language_info": {
   "codemirror_mode": {
    "name": "ipython",
    "version": 3
   },
   "file_extension": ".py",
   "mimetype": "text/x-python",
   "name": "python",
   "nbconvert_exporter": "python",
   "pygments_lexer": "ipython3",
   "version": "3.6.3"
  }
 },
 "nbformat": 4,
 "nbformat_minor": 2
}
